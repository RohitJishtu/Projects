{
 "cells": [
  {
   "cell_type": "code",
   "execution_count": 1,
   "metadata": {},
   "outputs": [],
   "source": [
    "# Z-Test\n",
    "# Z-test is a statistical test used to compare a sample mean to a population mean when the population standard deviation is known. In simple terms,\n",
    "\n",
    "# It is a statistical test to determine whether two population means are different when the variances are known and the sample size is large.\n",
    "# It applies in hypothesis test in which the z-statistic follows a normal distribution.\n",
    "# A Z-Statistic, or Z-Score, is a number representing the result from the Z-test.\n"
   ]
  },
  {
   "cell_type": "code",
   "execution_count": 3,
   "metadata": {},
   "outputs": [],
   "source": [
    "# To understand the Z-Test, let’s look at a real-world example. Let’s say a shoe firm claims that the typical lifespan of their footwear is 500 days. We gather a sample of 50 shoes to test this assertion, and we discover that the average lifespan is 490 days, with a standard deviation of 25 days. We can now run a Z-Test to see if the sample backs up the company’s claim or not.\n",
    "\n",
    "# When to Use Z-test:\n",
    "\n",
    "# The sample size should be greater than 30. Otherwise, we should use the t-test.\n",
    "# Samples should be drawn at random from the population.\n",
    "# The standard deviation of the population should be known.\n",
    "# Samples that are drawn from the population should be independent of each other.\n",
    "# The data should be normally distributed, however for large sample size, it is assumed to have a normal distribution.\n",
    "# Steps to perform Z-test:\n",
    "\n",
    "# First, identify the null and alternate hypotheses.\n",
    "# Determine the level of significance (∝).\n",
    "# Find the critical value of z in the z-test using.\n",
    "# Calculate the z-test statistics. Below is the formula for calculating the z-test statistics.\n",
    "\n",
    "\n",
    "# If the p-value is BELOW the threshold (meaning smaller than), then you can infer a statistically significant relationship between the input and target variables.\n",
    "\n",
    "# Otherwise, then you can infer no statistically significant relationship between the predictor and outcome variables.\n",
    "\n"
   ]
  },
  {
   "cell_type": "code",
   "execution_count": 4,
   "metadata": {},
   "outputs": [
    {
     "data": {
      "text/plain": [
       "(1.5976240527147705, 0.1101266701438426)"
      ]
     },
     "execution_count": 4,
     "metadata": {},
     "output_type": "execute_result"
    }
   ],
   "source": [
    "from statsmodels.stats.weightstats import ztest as ztest\n",
    "\"\"\"\n",
    "H0 : New Drug not Affects the IQ\n",
    "H1 : New Drug Does Affects the IQ\n",
    "\"\"\"\n",
    "\n",
    "#enter IQ levels for 20 patients\n",
    "data = [88, 92, 94, 94, 96, 97, 97, 97, 99, 99,\n",
    "        105, 109, 109, 109, 110, 112, 112, 113, 114, 115]\n",
    "\n",
    "#perform one sample z-test\n",
    "ztest(data, value=100)"
   ]
  },
  {
   "cell_type": "code",
   "execution_count": 5,
   "metadata": {},
   "outputs": [],
   "source": [
    "# The test statistic for the one sample z-test is 1.5976, and the corresponding p-value is 0.1101.\n",
    "\n",
    "# Since this p-value is not less than .05, we do not have sufficient evidence to reject the null hypothesis. In other words, the new drug does not significantly affect IQ levels."
   ]
  },
  {
   "cell_type": "code",
   "execution_count": 6,
   "metadata": {},
   "outputs": [
    {
     "data": {
      "text/plain": [
       "(-1.9953236073282115, 0.046007596761332065)"
      ]
     },
     "execution_count": 6,
     "metadata": {},
     "output_type": "execute_result"
    }
   ],
   "source": [
    "from statsmodels.stats.weightstats import ztest as ztest\n",
    "\n",
    "\"\"\"\n",
    "H0 : Mean is not Different\n",
    "H1 : Mean is Different\n",
    "\"\"\"\n",
    "\n",
    "#enter IQ levels for 20 individuals from each city\n",
    "cityA = [82, 84, 85, 89, 91, 91, 92, 94, 99, 99,\n",
    "         105, 109, 109, 109, 110, 112, 112, 113, 114, 114]\n",
    "\n",
    "cityB = [90, 91, 91, 91, 95, 95, 99, 99, 108, 109,\n",
    "         109, 114, 115, 116, 117, 117, 128, 129, 130, 133]\n",
    "\n",
    "#perform two sample z-test\n",
    "ztest(cityA, cityB, value=0) "
   ]
  },
  {
   "cell_type": "code",
   "execution_count": 7,
   "metadata": {},
   "outputs": [],
   "source": [
    "# The test statistic for the two sample z-test is -1.9953 and the corresponding p-value is 0.0460.\n",
    "\n",
    "# Since this p-value is less than .05, we have sufficient evidence to reject the null hypothesis. In other words, the mean IQ level is significantly different between the two cities."
   ]
  },
  {
   "cell_type": "code",
   "execution_count": null,
   "metadata": {},
   "outputs": [],
   "source": []
  }
 ],
 "metadata": {
  "kernelspec": {
   "display_name": "Python 3",
   "language": "python",
   "name": "python3"
  },
  "language_info": {
   "codemirror_mode": {
    "name": "ipython",
    "version": 3
   },
   "file_extension": ".py",
   "mimetype": "text/x-python",
   "name": "python",
   "nbconvert_exporter": "python",
   "pygments_lexer": "ipython3",
   "version": "3.10.13"
  }
 },
 "nbformat": 4,
 "nbformat_minor": 2
}
