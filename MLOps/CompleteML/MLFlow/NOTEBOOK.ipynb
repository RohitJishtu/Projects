{
 "cells": [
  {
   "cell_type": "code",
   "execution_count": 1,
   "metadata": {},
   "outputs": [],
   "source": [
    "import mlflow\n",
    "import mlflow.sklearn  # Adjust according to your model's framework, e.g., mlflow.pytorch, mlflow.tensorflow\n",
    "import joblib"
   ]
  },
  {
   "cell_type": "code",
   "execution_count": null,
   "metadata": {},
   "outputs": [
    {
     "name": "stderr",
     "output_type": "stream",
     "text": [
      "2024/12/10 20:41:56 INFO mlflow.tracking.fluent: Experiment with name 'BinaryClassification' does not exist. Creating a new experiment.\n"
     ]
    },
    {
     "name": "stdout",
     "output_type": "stream",
     "text": [
      "/Users/rohit.jishtu/Documents/GitHub/NewMachine/Projects/MLOps/CompleteML/MLFlow/mlruns\n"
     ]
    }
   ],
   "source": [
    "#--------- Step 11 : MLFlow Tracking  ------------------------------------------------------\n",
    "import mlflow\n",
    "import joblib\n",
    "\n",
    "# mlflow.set_tracking_uri(\"/Users/rohit.jishtu/Documents/GitHub/NewMachine/Projects/MLOps/CompleteML/MLFlow/mlruns\")\n",
    "print(mlflow.get_tracking_uri())\n",
    "\n",
    "mlflow.set_experiment(\"BinaryClassification\")\n",
    "model = joblib.load(\"../ModelBuild/DtreeModel.joblib\")\n"
   ]
  },
  {
   "cell_type": "code",
   "execution_count": 26,
   "metadata": {},
   "outputs": [],
   "source": [
    "import pandas as pd \n",
    "Test=pd.read_csv('test.csv')\n",
    "FeatureList=['loc', 'v(g)', 'ev(g)', 'iv(g)', 'n', 'v', 'l', 'd', 'i', 'e', 'b', 't', 'lOCode', 'lOBlank', 'uniq_Op', 'uniq_Opnd', 'total_Op', 'total_Opnd', 'branchCount']\n",
    "X_test=Test[FeatureList]\n"
   ]
  },
  {
   "cell_type": "code",
   "execution_count": 27,
   "metadata": {},
   "outputs": [
    {
     "name": "stdout",
     "output_type": "stream",
     "text": [
      "Model Parameters: {'ccp_alpha': 0.0, 'class_weight': 'balanced', 'criterion': 'entropy', 'max_depth': 6, 'max_features': None, 'max_leaf_nodes': None, 'min_impurity_decrease': 0.0, 'min_samples_leaf': 2, 'min_samples_split': 5, 'min_weight_fraction_leaf': 0.0, 'monotonic_cst': None, 'random_state': None, 'splitter': 'best'}\n"
     ]
    }
   ],
   "source": [
    "from sklearn.metrics import classification_report\n",
    "# Step 3: Get model parameters\n",
    "model_params = model.get_params()\n",
    "print(\"Model Parameters:\", model_params)\n",
    "\n",
    "# Step 4: Generate predictions and classification report as dictionary \n",
    "\n",
    "report = {'0': {'precision': 0.8845855925639039, 'recall': 0.7938072669826224, 'f1-score': 0.836741490708053, 'support': 15825.0}, '1': {'precision': 0.46960338101430427, 'recall': 0.638030035335689, 'f1-score': 0.5410112359550562, 'support': 4528.0}, 'accuracy': 0.7591509851127598, 'macro avg': {'precision': 0.6770944867891041, 'recall': 0.7159186511591558, 'f1-score': 0.6888763633315547, 'support': 20353.0}, 'weighted avg': {'precision': 0.7922631116570801, 'recall': 0.7591509851127598, 'f1-score': 0.7709493915815572, 'support': 20353.0}}"
   ]
  },
  {
   "cell_type": "code",
   "execution_count": 28,
   "metadata": {},
   "outputs": [
    {
     "data": {
      "text/plain": [
       "0.7591509851127598"
      ]
     },
     "execution_count": 28,
     "metadata": {},
     "output_type": "execute_result"
    }
   ],
   "source": [
    "report['accuracy']"
   ]
  },
  {
   "cell_type": "code",
   "execution_count": 29,
   "metadata": {},
   "outputs": [
    {
     "name": "stderr",
     "output_type": "stream",
     "text": [
      "2024/12/10 20:42:33 WARNING mlflow.models.model: Model logged without a signature and input example. Please set `input_example` parameter when logging the model to auto infer the model signature.\n",
      "Successfully registered model '10DecDTreeModel'.\n",
      "Created version '1' of model '10DecDTreeModel'.\n",
      "2024/12/10 20:42:35 WARNING mlflow.models.model: Model logged without a signature and input example. Please set `input_example` parameter when logging the model to auto infer the model signature.\n"
     ]
    },
    {
     "name": "stdout",
     "output_type": "stream",
     "text": [
      "Model logged to MLflow.\n"
     ]
    }
   ],
   "source": [
    "# Start a new MLflow run\n",
    "with mlflow.start_run():\n",
    "    # Log the model to MLflow\n",
    "    mlflow.sklearn.log_model(sk_model=model, artifact_path=\"model\", registered_model_name=\"10DecDTreeModel\")\n",
    "    \n",
    "    # Optionally log other parameters and metrics\n",
    "    mlflow.log_param(\"max_depth\", model_params)\n",
    "    mlflow.log_metrics({\n",
    "            'accuracy': report['accuracy'],\n",
    "            'recall_class_1': report['1']['recall'],\n",
    "            'recall_class_0': report['0']['recall'],\n",
    "            'f1_score_macro': report['macro avg']['f1-score']\n",
    "        })  \n",
    "    mlflow.sklearn.log_model(model, \"Dtree Model\") \n",
    "print(\"Model logged to MLflow.\")"
   ]
  },
  {
   "cell_type": "code",
   "execution_count": 3,
   "metadata": {},
   "outputs": [
    {
     "name": "stdout",
     "output_type": "stream",
     "text": [
      "[2024-12-12 18:17:14 +0530] [35652] [INFO] Starting gunicorn 23.0.0\n",
      "[2024-12-12 18:17:14 +0530] [35652] [INFO] Listening at: http://127.0.0.1:5000 (35652)\n",
      "[2024-12-12 18:17:14 +0530] [35652] [INFO] Using worker: sync\n",
      "[2024-12-12 18:17:14 +0530] [35653] [INFO] Booting worker with pid: 35653\n",
      "[2024-12-12 18:17:14 +0530] [35654] [INFO] Booting worker with pid: 35654\n",
      "[2024-12-12 18:17:14 +0530] [35655] [INFO] Booting worker with pid: 35655\n",
      "[2024-12-12 18:17:14 +0530] [35656] [INFO] Booting worker with pid: 35656\n",
      "^C\n",
      "[2024-12-12 18:17:29 +0530] [35652] [INFO] Handling signal: int\n",
      "[2024-12-12 18:17:30 +0530] [35654] [INFO] Worker exiting (pid: 35654)\n",
      "[2024-12-12 18:17:30 +0530] [35656] [INFO] Worker exiting (pid: 35656)\n",
      "[2024-12-12 18:17:30 +0530] [35655] [INFO] Worker exiting (pid: 35655)\n",
      "[2024-12-12 18:17:30 +0530] [35653] [INFO] Worker exiting (pid: 35653)\n"
     ]
    }
   ],
   "source": [
    "\n",
    "mlflow.set_tracking_uri(\"/Users/rohit.jishtu/Documents/My Projects/Project Personal/MLFlow/mlruns\")\n",
    "!mlflow ui\n",
    "\n"
   ]
  },
  {
   "cell_type": "code",
   "execution_count": null,
   "metadata": {},
   "outputs": [],
   "source": []
  }
 ],
 "metadata": {
  "kernelspec": {
   "display_name": "Python 3",
   "language": "python",
   "name": "python3"
  },
  "language_info": {
   "codemirror_mode": {
    "name": "ipython",
    "version": 3
   },
   "file_extension": ".py",
   "mimetype": "text/x-python",
   "name": "python",
   "nbconvert_exporter": "python",
   "pygments_lexer": "ipython3",
   "version": "3.9.6"
  }
 },
 "nbformat": 4,
 "nbformat_minor": 2
}
