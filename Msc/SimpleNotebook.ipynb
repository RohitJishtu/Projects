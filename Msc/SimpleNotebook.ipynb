{
 "cells": [
  {
   "cell_type": "code",
   "execution_count": 53,
   "metadata": {},
   "outputs": [],
   "source": [
    "import os\n",
    "import pandas as pd\n",
    "\n",
    "# data=pd.DataFrame()"
   ]
  },
  {
   "cell_type": "code",
   "execution_count": 149,
   "metadata": {},
   "outputs": [],
   "source": [
    "# curl -X POST http://127.0.0.1:5000/stock_recommendation -H \"Content-Type: application/json\" -d '{\n",
    "#   \"StockName\": \"SJVN\",\n",
    "#   \"StocksQty\": 500,\n",
    "#   \"StartPrice\": 26.15,\n",
    "#   \"EndPrice\": 108,\n",
    "#   \"Time\": 4,\n",
    "#   \"timesCompounded\": 1,\n",
    "#   \"Divident_All\": 2835\n",
    "# }"
   ]
  },
  {
   "cell_type": "code",
   "execution_count": 150,
   "metadata": {},
   "outputs": [],
   "source": [
    "# import requests\n",
    "# import json\n",
    "\n",
    "# # API endpoint\n",
    "# url = \"http://127.0.0.1:5000/stock_recommendation\"\n",
    "\n",
    "# # Data for multiple calls\n",
    "# data_list = [\n",
    "#     {\n",
    "#         \"StockName\": \"VEDL\",\n",
    "#         \"StocksQty\": 40,\n",
    "#         \"StartPrice\": 262.43,\n",
    "#         \"EndPrice\": 460,\n",
    "#         \"Time\": 1.8,\n",
    "#         \"timesCompounded\": 1,\n",
    "#         \"Divident_All\": 2612.5\n",
    "#     }\n",
    "# ]\n",
    "\n",
    "# # Loop through the data and make API calls\n",
    "# for stock_data in data_list:\n",
    "#     response = requests.post(url, headers={\"Content-Type\": \"application/json\"}, data=json.dumps(stock_data))\n",
    "#     print(f\"Response for {stock_data['StockName']}: {response.status_code} - {response.text}\")\n",
    "\n",
    "\n",
    "# RESULTS=pd.read_csv('/Users/rohit.jishtu/Documents/ListOfStocks.csv')\n",
    "# RESULTS.sort_values(by='Rate',ascending=False)\n",
    "\n"
   ]
  },
  {
   "cell_type": "code",
   "execution_count": 135,
   "metadata": {},
   "outputs": [],
   "source": [
    "#         \"StockName\": \"SBIN\",\n",
    "#         \"StocksQty\": 25,\n",
    "#         \"StartPrice\": 456.44,\n",
    "#         \"EndPrice\": 811.65,\n",
    "#         \"Time\": 2.5,\n",
    "#         \"timesCompounded\": 1,\n",
    "#         \"Divident_All\": 802.5\n",
    "# Response for SBIN: 200 - {\n",
    "#   \"DPS\": 32,\n",
    "#   \"Gain\": 8880.25,\n",
    "#   \"InsertDate\": \"2024-12-26 19:53:27\",\n",
    "#   \"Rate\": 25.890813086615516,\n",
    "#   \"Recommendation\": \"Hold\",\n",
    "#   \"StockName\": \"SBIN\"\n",
    "# }"
   ]
  },
  {
   "cell_type": "code",
   "execution_count": null,
   "metadata": {},
   "outputs": [],
   "source": [
    "# Rest of the Stocks \n"
   ]
  }
 ],
 "metadata": {
  "kernelspec": {
   "display_name": "Python 3",
   "language": "python",
   "name": "python3"
  },
  "language_info": {
   "codemirror_mode": {
    "name": "ipython",
    "version": 3
   },
   "file_extension": ".py",
   "mimetype": "text/x-python",
   "name": "python",
   "nbconvert_exporter": "python",
   "pygments_lexer": "ipython3",
   "version": "3.9.6"
  }
 },
 "nbformat": 4,
 "nbformat_minor": 2
}
