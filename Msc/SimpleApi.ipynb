{
 "cells": [
  {
   "cell_type": "code",
   "execution_count": 3,
   "metadata": {},
   "outputs": [
    {
     "name": "stdout",
     "output_type": "stream",
     "text": [
      " * Serving Flask app '__main__'\n",
      " * Debug mode: on\n"
     ]
    },
    {
     "name": "stderr",
     "output_type": "stream",
     "text": [
      "\u001b[31m\u001b[1mWARNING: This is a development server. Do not use it in a production deployment. Use a production WSGI server instead.\u001b[0m\n",
      " * Running on http://127.0.0.1:5000\n",
      "\u001b[33mPress CTRL+C to quit\u001b[0m\n",
      " * Restarting with stat\n",
      "Traceback (most recent call last):\n",
      "  File \"/opt/homebrew/Cellar/python@3.10/3.10.13/Frameworks/Python.framework/Versions/3.10/lib/python3.10/runpy.py\", line 196, in _run_module_as_main\n",
      "    return _run_code(code, main_globals, None,\n",
      "  File \"/opt/homebrew/Cellar/python@3.10/3.10.13/Frameworks/Python.framework/Versions/3.10/lib/python3.10/runpy.py\", line 86, in _run_code\n",
      "    exec(code, run_globals)\n",
      "  File \"/Users/rohit.jishtu/Library/Python/3.10/lib/python/site-packages/ipykernel_launcher.py\", line 17, in <module>\n",
      "    app.launch_new_instance()\n",
      "  File \"/Users/rohit.jishtu/Library/Python/3.10/lib/python/site-packages/traitlets/config/application.py\", line 1052, in launch_instance\n",
      "    app.initialize(argv)\n",
      "  File \"/Users/rohit.jishtu/Library/Python/3.10/lib/python/site-packages/traitlets/config/application.py\", line 117, in inner\n",
      "    return method(app, *args, **kwargs)\n",
      "  File \"/Users/rohit.jishtu/Library/Python/3.10/lib/python/site-packages/ipykernel/kernelapp.py\", line 690, in initialize\n",
      "    self.init_sockets()\n",
      "  File \"/Users/rohit.jishtu/Library/Python/3.10/lib/python/site-packages/ipykernel/kernelapp.py\", line 329, in init_sockets\n",
      "    self.shell_port = self._bind_socket(self.shell_socket, self.shell_port)\n",
      "  File \"/Users/rohit.jishtu/Library/Python/3.10/lib/python/site-packages/ipykernel/kernelapp.py\", line 252, in _bind_socket\n",
      "    return self._try_bind_socket(s, port)\n",
      "  File \"/Users/rohit.jishtu/Library/Python/3.10/lib/python/site-packages/ipykernel/kernelapp.py\", line 228, in _try_bind_socket\n",
      "    s.bind(\"tcp://%s:%i\" % (self.ip, port))\n",
      "  File \"/Users/rohit.jishtu/Library/Python/3.10/lib/python/site-packages/zmq/sugar/socket.py\", line 302, in bind\n",
      "    super().bind(addr)\n",
      "  File \"zmq/backend/cython/socket.pyx\", line 564, in zmq.backend.cython.socket.Socket.bind\n",
      "  File \"zmq/backend/cython/checkrc.pxd\", line 28, in zmq.backend.cython.checkrc._check_rc\n",
      "zmq.error.ZMQError: Address already in use (addr='tcp://127.0.0.1:9019')\n"
     ]
    },
    {
     "ename": "SystemExit",
     "evalue": "1",
     "output_type": "error",
     "traceback": [
      "An exception has occurred, use %tb to see the full traceback.\n",
      "\u001b[0;31mSystemExit\u001b[0m\u001b[0;31m:\u001b[0m 1\n"
     ]
    }
   ],
   "source": [
    "from flask import Flask, jsonify, request\n",
    "\n",
    "# Create the Flask application\n",
    "app = Flask(__name__)\n",
    "\n",
    "# Sample data - list of users\n",
    "users = [\n",
    "    {'id': 1, 'name': 'Alice'},\n",
    "    {'id': 2, 'name': 'Bob'},\n",
    "    {'id': 3, 'name': 'Charlie'}\n",
    "]\n",
    "\n",
    "# Route to get all users\n",
    "@app.route('/users', methods=['GET'])\n",
    "def get_users():\n",
    "    return jsonify(users)\n",
    "\n",
    "# Route to get a specific user by ID\n",
    "@app.route('/users/<int:user_id>', methods=['GET'])\n",
    "def get_user(user_id):\n",
    "    user = next((user for user in users if user['id'] == user_id), None)\n",
    "    if user:\n",
    "        return jsonify(user)\n",
    "    return jsonify({'message': 'User not found'}), 404\n",
    "\n",
    "# Route to create a new user\n",
    "@app.route('/users', methods=['POST'])\n",
    "def create_user():\n",
    "    data = request.json\n",
    "    new_user = {'id': len(users) + 1, 'name': data['name']}\n",
    "    users.append(new_user)\n",
    "    return jsonify(new_user), 201\n",
    "\n",
    "# Route to update an existing user\n",
    "@app.route('/users/<int:user_id>', methods=['PUT'])\n",
    "def update_user(user_id):\n",
    "    user = next((user for user in users if user['id'] == user_id), None)\n",
    "    if user:\n",
    "        data = request.json\n",
    "        user['name'] = data['name']\n",
    "        return jsonify(user)\n",
    "    return jsonify({'message': 'User not found'}), 404\n",
    "\n",
    "# Route to delete an existing user\n",
    "@app.route('/users/<int:user_id>', methods=['DELETE'])\n",
    "def delete_user(user_id):\n",
    "    global users\n",
    "    users = [user for user in users if user['id'] != user_id]\n",
    "    return jsonify({'message': 'User deleted'})\n",
    "\n",
    "# Run the Flask application\n",
    "if __name__ == '__main__':\n",
    "    app.run(debug=True)\n"
   ]
  },
  {
   "cell_type": "code",
   "execution_count": null,
   "metadata": {},
   "outputs": [],
   "source": []
  }
 ],
 "metadata": {
  "kernelspec": {
   "display_name": "Python 3",
   "language": "python",
   "name": "python3"
  },
  "language_info": {
   "codemirror_mode": {
    "name": "ipython",
    "version": 3
   },
   "file_extension": ".py",
   "mimetype": "text/x-python",
   "name": "python",
   "nbconvert_exporter": "python",
   "pygments_lexer": "ipython3",
   "version": "3.10.13"
  }
 },
 "nbformat": 4,
 "nbformat_minor": 2
}
