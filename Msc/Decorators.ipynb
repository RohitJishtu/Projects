{
 "cells": [
  {
   "cell_type": "code",
   "execution_count": 1,
   "metadata": {},
   "outputs": [],
   "source": [
    "import time\n",
    "\n",
    "\n",
    "# Measure Time \n",
    "\n",
    "def measure_time(func):\n",
    "    def wrapper():\n",
    "        start = time.time()\n",
    "        func()\n",
    "        end = time.time()\n",
    "        print(f\"Execution time: {end - start} seconds\")\n",
    "    return wrapper"
   ]
  },
  {
   "cell_type": "code",
   "execution_count": 2,
   "metadata": {},
   "outputs": [
    {
     "name": "stdout",
     "output_type": "stream",
     "text": [
      "Hello, world!\n",
      "Execution time: 1.6927719116210938e-05 seconds\n"
     ]
    }
   ],
   "source": [
    "@measure_time\n",
    "def hello():\n",
    "    print(\"Hello, world!\")\n",
    "\n",
    "hello()"
   ]
  },
  {
   "cell_type": "code",
   "execution_count": 7,
   "metadata": {},
   "outputs": [],
   "source": [
    "import time\n",
    "from functools import wraps\n",
    "\n",
    "def timer(func):\n",
    "    @wraps(func)\n",
    "    def wrapper(*args, **kwargs):\n",
    "        start = time.time()\n",
    "        result = func(*args, **kwargs)\n",
    "        end = time.time()\n",
    "        print(f\"Execution time of {func.__name__}: {end - start} seconds\")\n",
    "        return result\n",
    "    return wrapper"
   ]
  },
  {
   "cell_type": "code",
   "execution_count": 9,
   "metadata": {},
   "outputs": [
    {
     "name": "stdout",
     "output_type": "stream",
     "text": [
      "Execution time of factorial: 0.0 seconds\n",
      "Execution time of factorial: 2.5033950805664062e-05 seconds\n",
      "Execution time of factorial: 3.0994415283203125e-05 seconds\n",
      "Execution time of factorial: 3.409385681152344e-05 seconds\n",
      "Execution time of factorial: 3.719329833984375e-05 seconds\n",
      "Execution time of factorial: 4.00543212890625e-05 seconds\n",
      "Execution time of factorial: 4.38690185546875e-05 seconds\n",
      "Execution time of factorial: 4.601478576660156e-05 seconds\n",
      "Execution time of factorial: 4.9114227294921875e-05 seconds\n",
      "Execution time of factorial: 5.1975250244140625e-05 seconds\n",
      "3628800\n"
     ]
    }
   ],
   "source": [
    "@timer\n",
    "def factorial(n):\n",
    "    \"\"\"Returns the factorial of n\"\"\"\n",
    "    if n == 0 or n == 1:\n",
    "        return 1\n",
    "    else:\n",
    "        return n * factorial(n - 1)\n",
    "\n",
    "\n",
    "print(factorial(10))"
   ]
  },
  {
   "cell_type": "code",
   "execution_count": 10,
   "metadata": {},
   "outputs": [
    {
     "name": "stdout",
     "output_type": "stream",
     "text": [
      "Calling add with args: (2, 3) and kwargs: {}\n",
      "add returned: 5\n",
      "5\n",
      "Calling greet with args: ('Alice',) and kwargs: {}\n",
      "greet returned: Hello, Alice!\n",
      "Hello, Alice!\n",
      "Calling greet with args: ('Bob',) and kwargs: {'message': 'Hi'}\n",
      "greet returned: Hi, Bob!\n",
      "Hi, Bob!\n"
     ]
    }
   ],
   "source": [
    "from functools import wraps\n",
    "def debug(func):\n",
    "    @wraps(func)\n",
    "    def wrapper(*args, **kwargs):\n",
    "        print(f\"Calling {func.__name__} with args: {args} and kwargs: {kwargs}\")\n",
    "        result = func(*args, **kwargs)\n",
    "        print(f\"{func.__name__} returned: {result}\")\n",
    "        return result\n",
    "    return wrapper\n",
    "\n",
    "@debug\n",
    "def add(x, y):\n",
    "    \"\"\"Returns the sum of x and y\"\"\"\n",
    "    return x + y\n",
    "\n",
    "@debug\n",
    "def greet(name, message=\"Hello\"):\n",
    "    \"\"\"Returns a greeting message with the name\"\"\"\n",
    "    return f\"{message}, {name}!\"\n",
    "\n",
    "print(add(2, 3))\n",
    "print(greet(\"Alice\"))\n",
    "print(greet(\"Bob\", message=\"Hi\"))"
   ]
  },
  {
   "cell_type": "code",
   "execution_count": 11,
   "metadata": {},
   "outputs": [],
   "source": [
    "from functools import wraps\n",
    "\n",
    "def memoize(func):\n",
    "    cache = {}\n",
    "    @wraps(func)\n",
    "    def wrapper(*args):\n",
    "        if args in cache:\n",
    "            return cache[args]\n",
    "        else:\n",
    "            result = func(*args)\n",
    "            cache[args] = result\n",
    "            return result\n",
    "    return wrapper"
   ]
  },
  {
   "cell_type": "code",
   "execution_count": 12,
   "metadata": {},
   "outputs": [
    {
     "name": "stdout",
     "output_type": "stream",
     "text": [
      "3628800\n"
     ]
    }
   ],
   "source": [
    "@memoize\n",
    "def factorial(n):\n",
    "    \"\"\"Returns the factorial of n\"\"\"\n",
    "    if n == 0 or n == 1:\n",
    "        return 1\n",
    "    else:\n",
    "        return n * factorial(n - 1)\n",
    "print(factorial(10))"
   ]
  }
 ],
 "metadata": {
  "kernelspec": {
   "display_name": "Python 3",
   "language": "python",
   "name": "python3"
  },
  "language_info": {
   "codemirror_mode": {
    "name": "ipython",
    "version": 3
   },
   "file_extension": ".py",
   "mimetype": "text/x-python",
   "name": "python",
   "nbconvert_exporter": "python",
   "pygments_lexer": "ipython3",
   "version": "3.10.13"
  }
 },
 "nbformat": 4,
 "nbformat_minor": 2
}
