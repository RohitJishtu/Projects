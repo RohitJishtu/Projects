{
 "cells": [
  {
   "cell_type": "markdown",
   "metadata": {},
   "source": [
    "# Ques1 "
   ]
  },
  {
   "cell_type": "code",
   "execution_count": 2,
   "metadata": {},
   "outputs": [
    {
     "name": "stdout",
     "output_type": "stream",
     "text": [
      "Function1 {'text', 'string', 'first', 'second'}\n"
     ]
    }
   ],
   "source": [
    "\n",
    "# Ques =[\n",
    "# Return Mismatched Words\n",
    "# Given an input of two strings consisting of english letters (a-z; A-Z) and spaces, complete a function that returns a list containing all the mismatched words (case sensitive) between them.\n",
    "# You can assume that a word is a group of characters delimited by spaces.\n",
    "# A mismatched word is a word that is only in one string but not the other.\n",
    "# Add mismatched words from the first string before you add mismatched words from the second string in the output array.\n",
    "# Signature \n",
    "# static String[] returnMismatched(String str1, String str2)\n",
    "# Input\n",
    "# str1: a string\n",
    "# str2: a string\n",
    "# Note: You can only expect valid english letters (a-z; A-Z) and spaces.\n",
    "# Output\n",
    "# An array containing all words that do not match between str1 and str2.\n",
    "# ]\n",
    "\n",
    "str1= \"This is the first text\" \n",
    "str2= \"This is the second string\" \n",
    "\n",
    "def return_mismatched_words(str1, str2):\n",
    "    concat=str1+' '+str2\n",
    "    Concatlist=concat.split(' ')\n",
    "    Concatlist=set(Concatlist.copy())\n",
    "    resultlist=Concatlist.copy()\n",
    "    for i in Concatlist:\n",
    "        if i in str1 and i in str2:\n",
    "            resultlist.remove(i)\n",
    "    return resultlist\n",
    "\n",
    "print('Function1', return_mismatched_words(str1, str2))\n"
   ]
  },
  {
   "cell_type": "code",
   "execution_count": 3,
   "metadata": {},
   "outputs": [],
   "source": [
    "Function1 = ('text', 'string', 'first', 'second')"
   ]
  },
  {
   "cell_type": "code",
   "execution_count": 8,
   "metadata": {},
   "outputs": [
    {
     "data": {
      "text/plain": [
       "list"
      ]
     },
     "execution_count": 8,
     "metadata": {},
     "output_type": "execute_result"
    }
   ],
   "source": [
    "type(Function1)\n",
    "Function1=list(Function1)\n",
    "type(Function1)"
   ]
  },
  {
   "cell_type": "markdown",
   "metadata": {},
   "source": [
    "# Ques 2"
   ]
  },
  {
   "cell_type": "code",
   "execution_count": 10,
   "metadata": {},
   "outputs": [
    {
     "name": "stdout",
     "output_type": "stream",
     "text": [
      "[2, 3, 9, 10, 20]\n",
      "key is 2\n",
      "val is, 2\n",
      "d\n"
     ]
    }
   ],
   "source": [
    "# Return Smallest Key\n",
    "# You are given an input dictionary with keys as strings, and values as integers. Complete a function that returns the key with the nth smallest value.\n",
    "# If the solution involves two keys that have the same value, return the the key that is lexicographically earliest.\n",
    "# If n is larger than the number of distinct keys or equal to 0, then return null.\n",
    "# Signature \n",
    "# String returnSmallestKey(HashMap<String, Integer> inputDict, int n)\n",
    "# Input\n",
    "# inputDict: Map with a string as the key and integer as the value\n",
    "# n: Integer representing the nth smallest value to be returned\n",
    "# Output\n",
    "# string representing the key\n",
    "\n",
    "# inputDict={\"laptop\": 999,\n",
    "# \"smartphone\": 999,\n",
    "# \"smart tv\": 500,\n",
    "# \"smart watch\": 300,\n",
    "# \"smart home\": 9999999}\n",
    "# N= 2 \n",
    "# output= \"smart tv\"\n",
    "\n",
    "inputDict= {\"a\": 10,\"b\": 20,\"c\": 3,\"d\": 2,\"e\": 9}\n",
    "N= 1\n",
    "output= \"d\"  \n",
    "\n",
    "def Nth_SmallestVal(inputDict,N):\n",
    "    SortedList=[]\n",
    "    for i,val in inputDict.items():\n",
    "        SortedList.append(val)\n",
    "    SortedList.sort()\n",
    "    print(SortedList)\n",
    "    key=SortedList[N-1]\n",
    "    print('key is',key)\n",
    "\n",
    "    for i,val in inputDict.items():\n",
    "        if val==key:\n",
    "          print('val is,',val)\n",
    "          return i\n",
    "\n",
    "print(Nth_SmallestVal(inputDict,N))\n",
    "\n"
   ]
  },
  {
   "cell_type": "markdown",
   "metadata": {},
   "source": [
    "# Ques 3 "
   ]
  },
  {
   "cell_type": "code",
   "execution_count": null,
   "metadata": {},
   "outputs": [],
   "source": [
    "# For a given Sales table, compare the percentage of total sales on the first and last working day of the month. \n",
    "\n",
    "\n",
    "# Sales \n",
    "# SNo productID Day SalesAmt\n",
    "# 1    P1       1     30 \n",
    "# 1    P2       1     40 \n",
    "# 2    P1       2    20 \n",
    "# 3    P2       3    20 \n",
    "# 4    P1       4    20 \n",
    "# 4    P2       4    70 \n",
    "\n",
    "\n",
    "\n",
    "# product     Day1%Age          DayLast%Age\n",
    "# P1          (30/70)*100      (20/90)*100\n",
    "\n",
    "\n",
    "# Date as \n",
    "# (Select '1' StartDay,'30' EndDay  from DateDim )\n",
    "\n",
    "# SQL COde \n",
    "\n",
    "\n",
    "# [\n",
    "# with Date as \n",
    "# (Select '1' StartDay,'30' EndDay  from DateDim ) \n",
    "\n",
    "# Select \n",
    "# a.productID , \n",
    "# (Sum(case when a.productID=b.productID and b.Day=a.StartDay then b.SalesAmt else null end )/Sum(b.SalesAmt))*100  as \"Day1%Age\",\n",
    "# (Sum(case when a.productID=b.productID and b.Day=a.EndDay then b.SalesAmt else null end )/Sum(b.SalesAmt))*100   as \"DayLast%Age\"\n",
    "# from(Select distinct product from Sales) a,\n",
    "# Date \n",
    "# left join Sales b \n",
    "# on a.StartDay=b.Day\n",
    "# or a.EndDay=b.Day\n",
    "# group by all \n",
    "# ]\n"
   ]
  }
 ],
 "metadata": {
  "kernelspec": {
   "display_name": "Python 3",
   "language": "python",
   "name": "python3"
  },
  "language_info": {
   "codemirror_mode": {
    "name": "ipython",
    "version": 3
   },
   "file_extension": ".py",
   "mimetype": "text/x-python",
   "name": "python",
   "nbconvert_exporter": "python",
   "pygments_lexer": "ipython3",
   "version": "3.10.13"
  }
 },
 "nbformat": 4,
 "nbformat_minor": 2
}
