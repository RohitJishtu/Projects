2. Longest Common Subsequence: https://lnkd.in/gn_niUMG
3. Permutations: https://lnkd.in/gkfWBuk8
5. Merge Intervals: https://lnkd.in/gbFQ-BX9

===============19 Jan ==============================

#1. ###------------------------------------------------------
#Only a element should be printed once in a string 
# My best program
#IPString = ("swasti ksingh")

# Can use set 

#2. ###------------------------------------------------------
Common between 2 strings 
array1=['a','b','c','d','e']
array2=['z','f','p','d','r','s']


#3. ###------------------------------------------------------
Anagram 
import string
s = "cbaebabacd"
p = "abc"

#4. ###------------------------------------------------------
--Revenue Milestone 
revenues = [10, 20, 30, 40, 50, 60, 70, 80, 90, 100,110,120,130,140,150,160,170,190,200]
milestones = [100, 200, 500,1000,2000]
#output = [4, 6, 10]
output=[]


def WhenWeMetrevenue(revenues,milestones):
    sum=0
    output=[]
    for i in range(0, len(revenues)):
      sum+= revenues[i]
      # print('sum',sum)
      # print('len',len(milestones))
      if sum >= milestones[0] and len(milestones)>0:
          output.append(i+1)
          milestones.pop(0)
          # print('milestone',milestones[0])
    return output


#5. ###------------------------------------------------------

--Kth large emenets 
list = [1,2,33,14,35,11]
n=len(list)


#5. ###------------------------------------------------------

--Combination SUm 
Integers=[2,3,5]
target=8

#5. ###------------------------------------------------------

--Amagram 
import string
s = "cbaebabacd"
p = "abcd"
output=0


#5. ###------------------------------------------------------

--remove duplicates 
nums = [1,1,2]
#Output: 5, nums = [0,1,2,3,4,_,_,_,_,_]


#5. ###------------------------------------------------------

In a given list, find the counts of the minimum value.
List = [5, 2, 8, 1, 5, 0, 3, 1, 7, 2, 5, 4]

# plan , create a minimum value first val  , then iterate 
#       2. insert the counts into dict    
#       1. if val > first val , swap min val 
       

def FindMinval(GivenList):  
  if GivenList: 
    min_val=GivenList[0]
    ManualMap={}
    for i in range(0,len(GivenList)):
      if min_val >= GivenList[i]:
        min_val=GivenList[i]
        if GivenList[i] not in ManualMap:
          ManualMap[GivenList[i]]=1
        else:
          ManualMap[GivenList[i]]+=1
    return ManualMap[min_val]
  else:
    return 'EmptyList'




#5. ###------------------------------------------------------

Q1 Py : Highest Number 
Q2 Py : Highest Frequency Number 
Q3 Py : Merge Interval - maxium Planes in the air QUestion 



#---#---#---#---#---#---#---#---#---#---#---#---#---#---
Calculate the sum of odd numbers in a list.
List = [3, 6, 8, 2, 5, 7, 9, 4, 1]


#---#---#---#---#---#---#---#---#---#---#---#---#---#---#---#---


Merge Intervals 
Plane Maximum time in Air 
435. Non-overlapping Intervals



-- Salesperson  

-- +----+-------+------+--------+
-- | ID | Name  | Age  | Salary |
-- +----+-------+------+--------+
-- |  1 | Abe   |   61 | 140000 |
-- |  2 | Bob   |   34 |  44000 |
-- |  5 | Chris |   34 |  40000 |
-- |  7 | Dan   |   41 |  52000 |
-- |  8 | Ken   |   57 | 115000 |
-- | 11 | Joe   |   38 |  38000 |
-- +----+-------+------+--------+

-- Orders
-- +--------+------------+---------+----------------+--------+
-- | Number | order_date | cust_id | salesperson_id | Amount |
-- +--------+------------+---------+----------------+--------+
-- |     10 | 1996-08-02 |       4 |              2 |    540 |
-- |     20 | 1999-01-30 |       4 |              8 |   1800 |
-- |     30 | 1995-07-14 |       9 |              1 |    460 |
-- |     40 | 1998-01-29 |       7 |              2 |   2400 |
-- |     50 | 1998-02-03 |       6 |              7 |    600 |
-- |     60 | 1998-03-02 |       6 |              7 |    720 |
-- |     70 | 1998-05-06 |       9 |              7 |    150 |
-- +--------+------------+---------+----------------+--------+


List the salespersons who have made consecutive sales in two or more different months.


1 - join the tables inner join 
2- date_diff(order_date) and lag


with cte as (Select salesperson_id, lag(orderdate) over(order by order_date) as c from orders )

select * from cte where date_diff(c)=1

-- +--------+------------+---------+----------------+--------+


-- +--------+------------+---------+----------------+--------+


-- In a given list, find the counts of the minimum value.
List = [5, 2, 8, 1, 5, 0, 3, 1, 7, 2, 5, 4]


d = {5:3,2:2, 0:1}
res = [3,2,1]

1- if len(l)>1:
2- find the number of occurence of elements 
3- find second occurence - 
a. if 

def secOccur(n):
  d = {}
  
  for i in range(len(l)):
    if l[i] in d:
      d[l[i]]=d[l[i]]+1

    else:
    d[l[i]]=1


    





  
