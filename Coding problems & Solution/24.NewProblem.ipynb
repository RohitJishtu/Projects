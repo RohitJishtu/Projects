{
 "cells": [
  {
   "cell_type": "code",
   "execution_count": 30,
   "metadata": {},
   "outputs": [
    {
     "name": "stdout",
     "output_type": "stream",
     "text": [
      "data = [1, 6, 3, 11, 5, 33, 1], set = {1, 33, 3, 5, 6, 11}\n"
     ]
    }
   ],
   "source": [
    "data=[1,6,3,11,5,33,1]\n",
    "# Set_DS=set(data)\n",
    "print(f\"{data = }, {set = }\")"
   ]
  },
  {
   "cell_type": "code",
   "execution_count": 45,
   "metadata": {},
   "outputs": [],
   "source": [
    "# remove last element\n",
    "# data.pop()\n",
    "# # remove First element\n",
    "# data.pop(0)\n",
    "# Insert at a set happens randomly  \n",
    "# data.insert(3,45)\n",
    "\n",
    "set.add(32)"
   ]
  },
  {
   "cell_type": "code",
   "execution_count": 46,
   "metadata": {},
   "outputs": [
    {
     "name": "stdout",
     "output_type": "stream",
     "text": [
      "data = [1, 6, 3, 11, 5, 33, 1], set = {0, 1, 33, 3, 4, 5, 6, 2, 32, 11, 400}\n"
     ]
    }
   ],
   "source": [
    "print(f\"{data = }, {set = }\")"
   ]
  },
  {
   "cell_type": "code",
   "execution_count": 49,
   "metadata": {},
   "outputs": [],
   "source": [
    "\n",
    "# C0nvert to set \n",
    "\n",
    "\n",
    "# Convert to Doctionary \n",
    "\n",
    "\n",
    "Dict1={}\n",
    "for element in data:\n",
    "    if element in Dict1:\n",
    "        Dict1[element]+=1\n",
    "    else:\n",
    "        Dict1[element]=1\n",
    "\n",
    "\n",
    "\n",
    "# Convert to string "
   ]
  },
  {
   "cell_type": "code",
   "execution_count": 67,
   "metadata": {},
   "outputs": [
    {
     "name": "stdout",
     "output_type": "stream",
     "text": [
      "{1: 2, 6: 1, 3: 1, 11: 1, 5: 1, 33: 1}\n",
      "33\n"
     ]
    }
   ],
   "source": [
    "# # Accesing Element in Doct \n",
    "\n",
    "\n",
    "# # 4th Position \n",
    "# print(Dict1)\n",
    "# pos=5\n",
    "# i=0\n",
    "# for key,val in Dict1.items():\n",
    "#     if i==pos:\n",
    "#       print(key)\n",
    "#     i+=1\n"
   ]
  },
  {
   "cell_type": "code",
   "execution_count": null,
   "metadata": {},
   "outputs": [],
   "source": [
    "class Solution:\n",
    "  def closeStrings(self, word1: str, word2: str) -> bool: \n",
    "     if len(word1)!=len(word2):\n",
    "        return False\n",
    "     if set(word1) != set(word2):\n",
    "        return False\n",
    "    #  put both list to dictionary and compare values \n",
    "     mapword1={}\n",
    "     mapword2={}\n",
    "     for i in word1:\n",
    "        if i not in mapword1:\n",
    "          mapword1[i]=1\n",
    "        else: \n",
    "          mapword1[i]+=1\n",
    "     for j in word2:\n",
    "        if j not in mapword2:\n",
    "          mapword2[j]=1\n",
    "        else:\n",
    "          mapword2[j]+=1\n",
    "     print(sorted(mapword1.values()))\n",
    "    #  ,mapword2.values())\n",
    "     \n",
    "     if sorted(mapword1.values())!=sorted(mapword2.values()):\n",
    "        return False\n",
    "     \n",
    "     return True     "
   ]
  },
  {
   "cell_type": "code",
   "execution_count": 1,
   "metadata": {},
   "outputs": [
    {
     "name": "stdout",
     "output_type": "stream",
     "text": [
      "elif clause current_sum=2 temparray=[2]\n",
      "elif clause current_sum=4 temparray=[2, 2]\n",
      "elif clause current_sum=6 temparray=[2, 2, 2]\n",
      "if clause results=[[2, 2, 2, 2]] current_sum=8 temparray=[2, 2, 2, 2]\n",
      "backtrack current_sum=6 temparray=[2, 2, 2]\n",
      "backtrack current_sum=6 temparray=[2, 2, 2]\n",
      "backtrack current_sum=6 temparray=[2, 2, 2]\n",
      "backtrack current_sum=4 temparray=[2, 2]\n",
      "elif clause current_sum=7 temparray=[2, 2, 3]\n",
      "backtrack current_sum=7 temparray=[2, 2, 3]\n",
      "backtrack current_sum=7 temparray=[2, 2, 3]\n",
      "backtrack current_sum=4 temparray=[2, 2]\n",
      "backtrack current_sum=4 temparray=[2, 2]\n",
      "backtrack current_sum=2 temparray=[2]\n",
      "elif clause current_sum=5 temparray=[2, 3]\n",
      "if clause results=[[2, 2, 2, 2], [2, 3, 3]] current_sum=8 temparray=[2, 3, 3]\n",
      "backtrack current_sum=5 temparray=[2, 3]\n",
      "backtrack current_sum=5 temparray=[2, 3]\n",
      "backtrack current_sum=2 temparray=[2]\n",
      "elif clause current_sum=7 temparray=[2, 5]\n",
      "backtrack current_sum=7 temparray=[2, 5]\n",
      "backtrack current_sum=2 temparray=[2]\n",
      "backtrack current_sum=0 temparray=[]\n",
      "elif clause current_sum=3 temparray=[3]\n",
      "elif clause current_sum=6 temparray=[3, 3]\n",
      "backtrack current_sum=6 temparray=[3, 3]\n",
      "backtrack current_sum=6 temparray=[3, 3]\n",
      "backtrack current_sum=3 temparray=[3]\n",
      "if clause results=[[2, 2, 2, 2], [2, 3, 3], [3, 5]] current_sum=8 temparray=[3, 5]\n",
      "backtrack current_sum=3 temparray=[3]\n",
      "backtrack current_sum=0 temparray=[]\n",
      "elif clause current_sum=5 temparray=[5]\n",
      "backtrack current_sum=5 temparray=[5]\n",
      "backtrack current_sum=0 temparray=[]\n",
      "[[2, 2, 2, 2], [2, 3, 3], [3, 5]]\n"
     ]
    }
   ],
   "source": [
    "\n",
    "def CombinationSum(nums, target):\n",
    "    results = []\n",
    "\n",
    "    def backtrack(nums, index, current_sum, temparray):\n",
    "        for i in range(index, len(nums)):  # Use index correctly to avoid repeated numbers\n",
    "            number = nums[i]\n",
    "            current_sum += number\n",
    "            temparray.append(number)\n",
    "            \n",
    "            if current_sum == target:\n",
    "                results.append(list(temparray))  # Append a copy of temparray to results\n",
    "                print(f'if clause {results=} {current_sum=} {temparray=}')\n",
    "                \n",
    "            elif current_sum < target:\n",
    "                print(f'elif clause {current_sum=} {temparray=}')\n",
    "                backtrack(nums, i, current_sum, temparray)  # Continue recursion from current index\n",
    "                \n",
    "            # Backtrack: remove the last added number\n",
    "            current_sum -= number\n",
    "            temparray.pop()\n",
    "            print(f'backtrack {current_sum=} {temparray=}')\n",
    "        \n",
    "    # Start the recursion from index 0\n",
    "    backtrack(nums, 0, 0, [])\n",
    "    \n",
    "    return results\n",
    "\n",
    "# Example usage\n",
    "nums = [2, 3, 5]\n",
    "target = 8\n",
    "print(CombinationSum(nums, target))\n"
   ]
  },
  {
   "cell_type": "code",
   "execution_count": null,
   "metadata": {},
   "outputs": [],
   "source": []
  }
 ],
 "metadata": {
  "kernelspec": {
   "display_name": "Python 3",
   "language": "python",
   "name": "python3"
  },
  "language_info": {
   "codemirror_mode": {
    "name": "ipython",
    "version": 3
   },
   "file_extension": ".py",
   "mimetype": "text/x-python",
   "name": "python",
   "nbconvert_exporter": "python",
   "pygments_lexer": "ipython3",
   "version": "3.9.6"
  }
 },
 "nbformat": 4,
 "nbformat_minor": 2
}
