{
 "cells": [
  {
   "cell_type": "code",
   "execution_count": 20,
   "metadata": {},
   "outputs": [],
   "source": [
    "# Model Comparisons \n",
    "import pandas as pd\n",
    "import sys\n",
    "sys.path.append(\"/Users/rohit.jishtu/Documents/GitHub/NewMachine/Projects/StatsFunctions\")\n",
    "from Corr import *\n",
    "from Stats import *\n",
    "from sklearn.metrics import classification_report\n",
    "from scipy.stats import chi2_contingency\n",
    "import numpy as np"
   ]
  },
  {
   "cell_type": "code",
   "execution_count": 14,
   "metadata": {},
   "outputs": [],
   "source": [
    "UnseenData=pd.read_csv('/Users/rohit.jishtu/Documents/GitHub/NewMachine/Projects/ML Projects/Project 7 - Bank Marketing Data/bank/bank.csv',sep=';')\n",
    "import joblib\n"
   ]
  },
  {
   "cell_type": "markdown",
   "metadata": {},
   "source": [
    "# Preprocessing "
   ]
  },
  {
   "cell_type": "markdown",
   "metadata": {},
   "source": []
  },
  {
   "cell_type": "code",
   "execution_count": null,
   "metadata": {},
   "outputs": [
    {
     "name": "stdout",
     "output_type": "stream",
     "text": [
      "Index(['age', 'balance', 'day', 'duration', 'campaign', 'pdays', 'Target',\n",
      "       'job_blue-collar', 'job_entrepreneur', 'job_housemaid',\n",
      "       'job_management', 'job_retired', 'job_self-employed', 'job_services',\n",
      "       'job_student', 'job_technician', 'job_unemployed', 'job_unknown',\n",
      "       'marital_married', 'marital_single', 'education_secondary',\n",
      "       'education_tertiary', 'education_unknown', 'default_yes', 'housing_yes',\n",
      "       'loan_yes', 'contact_telephone', 'contact_unknown', 'month_aug',\n",
      "       'month_dec', 'month_feb', 'month_jan', 'month_jul', 'month_jun',\n",
      "       'month_mar', 'month_may', 'month_nov', 'month_oct', 'month_sep',\n",
      "       'poutcome_other', 'poutcome_success', 'poutcome_unknown', 'y_yes'],\n",
      "      dtype='object')\n"
     ]
    }
   ],
   "source": [
    "# Convert Unseen Data to Training Data \n",
    "\n",
    "outdf_numeric = CalBasicStats(UnseenData,'numeric')\n",
    "outdf_nonnumeric = CalBasicStats(UnseenData,'Non-numeric')\n",
    "keys=['y']\n",
    "Selected =[]\n",
    "UnseenData['Target'] = UnseenData['y'].apply(lambda x: 1 if x == 'yes' else 0)\n",
    "\n",
    "\n",
    "outdf_nonnumeric=outdf_nonnumeric[(outdf_nonnumeric['UniqueCounts']>1)]\n",
    "Columns2=outdf_nonnumeric['ColumnName'].to_list()\n",
    "selected_cat_features=Columns2\n",
    "Selected.extend(outdf_numeric['ColumnName'].to_list())\n",
    "Selected.append('Target')\n",
    "\n",
    "# print(data.columns)\n",
    "# print(Selected)\n",
    "\n",
    "# Modifying data based on selected.\n",
    "TrainingData=UnseenData[Selected]\n",
    "for column in selected_cat_features:\n",
    "    dummy_variables = pd.get_dummies(UnseenData[column], drop_first=True)\n",
    "    prefix = str(column+'_')\n",
    "    dummy_variables = dummy_variables.astype(int)\n",
    "    dummy_variables = dummy_variables.add_prefix(prefix)\n",
    "    TrainingData = pd.concat([TrainingData , dummy_variables], axis=1)\n",
    "\n",
    "\n",
    "print(TrainingData.columns)  # Verify the merged data\n",
    "\n"
   ]
  },
  {
   "cell_type": "markdown",
   "metadata": {},
   "source": [
    "# ML Models "
   ]
  },
  {
   "cell_type": "code",
   "execution_count": null,
   "metadata": {},
   "outputs": [
    {
     "name": "stdout",
     "output_type": "stream",
     "text": [
      "['age', 'balance', 'day', 'duration', 'campaign', 'pdays', 'job_blue-collar', 'job_entrepreneur', 'job_housemaid', 'job_management', 'job_retired', 'job_self-employed', 'job_services', 'job_student', 'job_technician', 'job_unemployed', 'job_unknown', 'marital_married', 'marital_single', 'education_secondary', 'education_tertiary', 'education_unknown', 'default_yes', 'housing_yes', 'loan_yes', 'contact_telephone', 'contact_unknown', 'month_aug', 'month_dec', 'month_feb', 'month_jan', 'month_jul', 'month_jun', 'month_mar', 'month_may', 'month_nov', 'month_oct', 'month_sep', 'poutcome_other', 'poutcome_success', 'poutcome_unknown']\n"
     ]
    }
   ],
   "source": [
    "# Prepare the features and target\n",
    "ML_model= joblib.load('/Users/rohit.jishtu/Documents/GitHub/NewMachine/Projects/ML Projects/Project 7 - Bank Marketing Data/BankDtreeModel.joblib')\n",
    "ML_Features_df=pd.read_csv('/Users/rohit.jishtu/Documents/GitHub/NewMachine/Projects/ML Projects/Project 7 - Bank Marketing Data/MLFeatureList')\n",
    "ML_Features=ML_Features_df['0'].to_list()\n"
   ]
  },
  {
   "cell_type": "code",
   "execution_count": 73,
   "metadata": {},
   "outputs": [
    {
     "name": "stdout",
     "output_type": "stream",
     "text": [
      "ML Classification Report:\n",
      "\n",
      "              precision    recall  f1-score   support\n",
      "\n",
      "           0       0.97      0.82      0.89      4000\n",
      "           1       0.37      0.78      0.50       521\n",
      "\n",
      "    accuracy                           0.82      4521\n",
      "   macro avg       0.67      0.80      0.70      4521\n",
      "weighted avg       0.90      0.82      0.85      4521\n",
      "\n"
     ]
    }
   ],
   "source": [
    "# Prepare the features and target\n",
    "\n",
    "Targets = ['Target','y','y_yes']\n",
    "FeatureList= ML_Features\n",
    "X=TrainingData[FeatureList] \n",
    "Actuals=UnseenData['Target'] \n",
    "predictions = ML_model.predict(X)\n",
    "\n",
    "predictions_ML=predictions\n",
    "Actuals_ML=Actuals\n",
    "\n",
    "# # Print Metrics\n",
    "report = classification_report(Actuals, predictions)\n",
    "print(f\"ML Classification Report:\\n\\n{report}\")\n"
   ]
  },
  {
   "cell_type": "markdown",
   "metadata": {},
   "source": [
    "# DL Model\n"
   ]
  },
  {
   "cell_type": "code",
   "execution_count": null,
   "metadata": {},
   "outputs": [
    {
     "name": "stderr",
     "output_type": "stream",
     "text": [
      "/var/folders/vr/rvvf5fcn6957xk3723kv68km0000gn/T/ipykernel_53091/3796726115.py:21: FutureWarning: You are using `torch.load` with `weights_only=False` (the current default value), which uses the default pickle module implicitly. It is possible to construct malicious pickle data which will execute arbitrary code during unpickling (See https://github.com/pytorch/pytorch/blob/main/SECURITY.md#untrusted-models for more details). In a future release, the default value for `weights_only` will be flipped to `True`. This limits the functions that could be executed during unpickling. Arbitrary objects will no longer be allowed to be loaded via this mode unless they are explicitly allowlisted by the user via `torch.serialization.add_safe_globals`. We recommend you start setting `weights_only=True` for any use case where you don't have full control of the loaded file. Please open an issue on GitHub for any issues related to this experimental feature.\n",
      "  DL_model.load_state_dict(torch.load('BAnkData_NN_model.pth'))\n"
     ]
    },
    {
     "data": {
      "text/plain": [
       "SimpleNN(\n",
       "  (layer1): Linear(in_features=39, out_features=64, bias=True)\n",
       "  (layer2): Linear(in_features=64, out_features=32, bias=True)\n",
       "  (layer3): Linear(in_features=32, out_features=1, bias=True)\n",
       "  (sigmoid): Sigmoid()\n",
       ")"
      ]
     },
     "execution_count": 64,
     "metadata": {},
     "output_type": "execute_result"
    }
   ],
   "source": [
    "import torch\n",
    "import torch.nn as nn\n",
    "import torch.optim as optim\n",
    "#  Example model\n",
    "class SimpleNN(nn.Module):\n",
    "    def __init__(self, input_size):\n",
    "        super(SimpleNN, self).__init__()\n",
    "        self.layer1 = nn.Linear(input_size, 64)\n",
    "        self.layer2 = nn.Linear(64, 32)\n",
    "        self.layer3 = nn.Linear(32, 1)\n",
    "        self.sigmoid = nn.Sigmoid()\n",
    "\n",
    "    def forward(self, x):\n",
    "        x = torch.relu(self.layer1(x))\n",
    "        x = torch.relu(self.layer2(x))\n",
    "        x = self.sigmoid(self.layer3(x))\n",
    "        return x\n",
    "\n",
    "# Initialize the model\n",
    "DL_model = SimpleNN(input_size=39)\n",
    "DL_model.load_state_dict(torch.load('BAnkData_NN_model.pth'))\n"
   ]
  },
  {
   "cell_type": "code",
   "execution_count": 65,
   "metadata": {},
   "outputs": [],
   "source": [
    "TrainingDataDL=TrainingData\n",
    "DL_Features_df=pd.read_csv('/Users/rohit.jishtu/Documents/GitHub/NewMachine/Projects/DL Projects/PyTorchSeries/FeatureList_df.csv')\n",
    "DL_Features=DL_Features_df['0'].to_list()"
   ]
  },
  {
   "cell_type": "code",
   "execution_count": 84,
   "metadata": {},
   "outputs": [
    {
     "name": "stdout",
     "output_type": "stream",
     "text": [
      "DL Classification Report:\n",
      "\n",
      "              precision    recall  f1-score   support\n",
      "\n",
      "           0       0.91      0.97      0.94      4000\n",
      "           1       0.52      0.23      0.32       521\n",
      "\n",
      "    accuracy                           0.89      4521\n",
      "   macro avg       0.71      0.60      0.63      4521\n",
      "weighted avg       0.86      0.89      0.87      4521\n",
      "\n"
     ]
    },
    {
     "name": "stderr",
     "output_type": "stream",
     "text": [
      "/var/folders/vr/rvvf5fcn6957xk3723kv68km0000gn/T/ipykernel_53091/3438239750.py:9: UserWarning: To copy construct from a tensor, it is recommended to use sourceTensor.clone().detach() or sourceTensor.clone().detach().requires_grad_(True), rather than torch.tensor(sourceTensor).\n",
      "  Actuals = torch.tensor(Actuals, dtype=torch.float32).view(-1, 1)\n"
     ]
    }
   ],
   "source": [
    "# For DL \n",
    "\n",
    "Targets = ['Target','y','y_yes']\n",
    "FeatureList= DL_Features\n",
    "X=TrainingData[FeatureList] \n",
    "Actuals_Src=UnseenData['Target'] \n",
    "X = X.fillna(0)\n",
    "X = X.to_numpy(dtype=np.float32)  # Convert features to NumPy array\n",
    "Actuals = torch.tensor(Actuals, dtype=torch.float32).view(-1, 1)\n",
    "# Convert to PyTorch tensors\n",
    "X_tensor = torch.tensor(X, dtype=torch.float32)\n",
    "# Set the model to evaluation mode\n",
    "# Evaluate the model\n",
    "def evaluate_model(model, X_test, Y_test, threshold=0.5):\n",
    "    model.eval()\n",
    "    with torch.no_grad():\n",
    "        y_pred_prob = model(X_test)\n",
    "        y_pred = (y_pred_prob >= threshold).float()\n",
    "\n",
    "    return y_pred, y_pred_prob\n",
    "\n",
    "Predictions_DL, Prediction_Prob = evaluate_model(DL_model, X_tensor, Actuals)\n",
    "Actuals_DL=Actuals_Src\n",
    "# # Print Metrics\n",
    "report = classification_report(Actuals_DL, Predictions_DL)\n",
    "print(f\"DL Classification Report:\\n\\n{report}\")"
   ]
  },
  {
   "cell_type": "markdown",
   "metadata": {},
   "source": [
    "# Scoring & Metrics From Both Models "
   ]
  },
  {
   "cell_type": "markdown",
   "metadata": {},
   "source": []
  },
  {
   "cell_type": "code",
   "execution_count": 91,
   "metadata": {},
   "outputs": [
    {
     "data": {
      "image/png": "[encoded data removed]",
      "text/plain": [
       "<Figure size 800x400 with 4 Axes>"
      ]
     },
     "metadata": {},
     "output_type": "display_data"
    }
   ],
   "source": [
    "import matplotlib.pyplot as plt\n",
    "from matplotlib.colors import LinearSegmentedColormap\n",
    "from sklearn.metrics import confusion_matrix, accuracy_score, precision_score, recall_score\n",
    "\n",
    "def plot_side_by_side_confusion_matrices(y_true, y_pred1, y_pred2, labels=None, model1_name=\"Model 1\", model2_name=\"Model 2\"):\n",
    "    \"\"\"\n",
    "    Plots side-by-side confusion matrices for two models with customized color maps.\n",
    "\n",
    "    Parameters:\n",
    "    - y_true: Ground truth labels (array-like)\n",
    "    - y_pred1: Predictions from the first model (array-like)\n",
    "    - y_pred2: Predictions from the second model (array-like)\n",
    "    - labels: List of class labels (optional)\n",
    "    - model1_name: Name of the first model (string)\n",
    "    - model2_name: Name of the second model (string)\n",
    "    \"\"\"\n",
    "    # Compute confusion matrices\n",
    "    cm1 = confusion_matrix(y_true, y_pred1, labels=labels)\n",
    "    cm2 = confusion_matrix(y_true, y_pred2, labels=labels)\n",
    "\n",
    "    # Compute metrics\n",
    "    acc1 = accuracy_score(y_true, y_pred1)\n",
    "    prec1 = precision_score(y_true, y_pred1, average=\"binary\")\n",
    "    rec1 = recall_score(y_true, y_pred1, average=\"binary\")\n",
    "\n",
    "    acc2 = accuracy_score(y_true, y_pred2)\n",
    "    prec2 = precision_score(y_true, y_pred2, average=\"binary\")\n",
    "    rec2 = recall_score(y_true, y_pred2, average=\"binary\")\n",
    "\n",
    "    # Define ServiceNow-inspired custom colormaps\n",
    "    cmap1 = LinearSegmentedColormap.from_list(\n",
    "        'model1_cmap', [(0, '#E5F5E0'), (0.5, '#80B6A1'), (1, '#293E40')]\n",
    "    )\n",
    "    cmap2 = LinearSegmentedColormap.from_list(\n",
    "        'model2_cmap', [(0, '#FDEDEC'), (0.5, '#F1948A'), (1, '#641E16')]\n",
    "    )\n",
    "\n",
    "    # Define the figure\n",
    "    fig, axes = plt.subplots(1, 2, figsize=(8, 4))\n",
    "\n",
    "    # Plot confusion matrix for the first model\n",
    "    im1 = axes[0].imshow(cm1, interpolation='nearest', cmap=cmap1)\n",
    "    axes[0].figure.colorbar(im1, ax=axes[0])\n",
    "    axes[0].set_title(f\"Confusion Matrix: {model1_name}\")\n",
    "    axes[0].set(xticks=range(len(labels)), yticks=range(len(labels)),\n",
    "                xticklabels=labels, yticklabels=labels,\n",
    "                xlabel=\"Predicted Labels\", ylabel=\"True Labels\")\n",
    "\n",
    "    # Add text annotations for the first model\n",
    "    thresh1 = cm1.max() / 2\n",
    "    for i in range(cm1.shape[0]):\n",
    "        for j in range(cm1.shape[1]):\n",
    "            axes[0].text(j, i, format(cm1[i, j], 'd'), ha=\"center\", va=\"center\",\n",
    "                         color=\"white\" if cm1[i, j] > thresh1 else \"black\")\n",
    "\n",
    "    # Add metrics below the first confusion matrix\n",
    "    axes[0].text(0.5, -0.3, f\"Accuracy: {acc1:.2f}\\nPrecision: {prec1:.2f}\\nRecall: {rec1:.2f}\",\n",
    "                 transform=axes[0].transAxes, ha=\"center\", va=\"center\", fontsize=10, color=\"#293E40\")\n",
    "\n",
    "    # Plot confusion matrix for the second model\n",
    "    im2 = axes[1].imshow(cm2, interpolation='nearest', cmap=cmap2)\n",
    "    axes[1].figure.colorbar(im2, ax=axes[1])\n",
    "    axes[1].set_title(f\"Confusion Matrix: {model2_name}\")\n",
    "    axes[1].set(xticks=range(len(labels)), yticks=range(len(labels)),\n",
    "                xticklabels=labels, yticklabels=labels,\n",
    "                xlabel=\"Predicted Labels\", ylabel=\"True Labels\")\n",
    "\n",
    "    # Add text annotations for the second model\n",
    "    thresh2 = cm2.max() / 2\n",
    "    for i in range(cm2.shape[0]):\n",
    "        for j in range(cm2.shape[1]):\n",
    "            axes[1].text(j, i, format(cm2[i, j], 'd'), ha=\"center\", va=\"center\",\n",
    "                         color=\"white\" if cm2[i, j] > thresh2 else \"black\")\n",
    "\n",
    "    # Add metrics below the second confusion matrix\n",
    "    axes[1].text(0.5, -0.3, f\"Accuracy: {acc2:.2f}\\nPrecision: {prec2:.2f}\\nRecall: {rec2:.2f}\",\n",
    "                 transform=axes[1].transAxes, ha=\"center\", va=\"center\", fontsize=10, color=\"#641E16\")\n",
    "\n",
    "    # Adjust layout\n",
    "    plt.tight_layout()\n",
    "    plt.show()\n",
    "\n",
    "# Example Usage\n",
    "# Assuming y_true, y_pred1, and y_pred2 are available:\n",
    "# y_true = [actual class labels]\n",
    "# y_pred1 = [predicted labels from model 1]\n",
    "# y_pred2 = [predicted labels from model 2]\n",
    "# labels = [\"Class 0\", \"Class 1\"]\n",
    "labels = [1,0]\n",
    "plot_side_by_side_confusion_matrices(Actuals_ML,predictions_ML, Predictions_DL,labels=labels,model1_name=\"ML Dtree\", model2_name=\"DL Pytorch FF\")\n"
   ]
  },
  {
   "cell_type": "code",
   "execution_count": null,
   "metadata": {},
   "outputs": [],
   "source": []
  }
 ],
 "metadata": {
  "kernelspec": {
   "display_name": "Python 3",
   "language": "python",
   "name": "python3"
  },
  "language_info": {
   "codemirror_mode": {
    "name": "ipython",
    "version": 3
   },
   "file_extension": ".py",
   "mimetype": "text/x-python",
   "name": "python",
   "nbconvert_exporter": "python",
   "pygments_lexer": "ipython3",
   "version": "3.9.6"
  }
 },
 "nbformat": 4,
 "nbformat_minor": 2
}
