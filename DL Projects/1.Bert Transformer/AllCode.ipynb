{
 "cells": [
  {
   "cell_type": "code",
   "execution_count": 4,
   "metadata": {},
   "outputs": [
    {
     "name": "stderr",
     "output_type": "stream",
     "text": [
      "/opt/homebrew/lib/python3.10/site-packages/tqdm/auto.py:21: TqdmWarning: IProgress not found. Please update jupyter and ipywidgets. See https://ipywidgets.readthedocs.io/en/stable/user_install.html\n",
      "  from .autonotebook import tqdm as notebook_tqdm\n"
     ]
    }
   ],
   "source": [
    "import torch\n",
    "from transformers import BertModel, BertTokenizer\n"
   ]
  },
  {
   "cell_type": "code",
   "execution_count": 5,
   "metadata": {},
   "outputs": [
    {
     "name": "stderr",
     "output_type": "stream",
     "text": [
      "tokenizer_config.json: 100%|██████████| 28.0/28.0 [00:00<00:00, 74.9kB/s]\n",
      "vocab.txt: 100%|██████████| 232k/232k [00:00<00:00, 620kB/s]\n",
      "tokenizer.json: 100%|██████████| 466k/466k [00:00<00:00, 782kB/s]\n",
      "config.json: 100%|██████████| 570/570 [00:00<00:00, 5.60MB/s]\n",
      "model.safetensors: 100%|██████████| 440M/440M [00:47<00:00, 9.29MB/s] \n"
     ]
    },
    {
     "name": "stdout",
     "output_type": "stream",
     "text": [
      "tensor([[[ 0.0051, -0.0445, -0.2543,  ..., -0.4674,  0.1839,  0.4307],\n",
      "         [ 0.1518, -0.3346,  0.0500,  ..., -0.0397,  0.9728,  0.3340],\n",
      "         [-0.5165,  0.2028,  0.5212,  ..., -0.5615,  0.4370,  0.1435],\n",
      "         ...,\n",
      "         [-0.2533, -0.7244, -0.7809,  ..., -0.1901, -0.0070, -0.6356],\n",
      "         [-0.3863, -0.8991, -0.8409,  ...,  0.0749,  0.1376, -0.1122],\n",
      "         [ 0.5416, -0.1070, -0.3464,  ...,  0.1287, -0.4294, -0.2204]]],\n",
      "       grad_fn=<NativeLayerNormBackward0>)\n"
     ]
    }
   ],
   "source": [
    "\n",
    "# Load pre-trained BERT model and tokenizer\n",
    "model_name = 'bert-base-uncased'\n",
    "tokenizer = BertTokenizer.from_pretrained(model_name)\n",
    "bert_model = BertModel.from_pretrained(model_name)\n",
    "\n",
    "# Input sentence\n",
    "sentence = \"Hello, how are you doing today?\"\n",
    "\n",
    "# Tokenize input\n",
    "tokens = tokenizer(sentence, return_tensors='pt')\n",
    "\n",
    "# Forward pass through BERT model\n",
    "outputs = bert_model(**tokens)\n",
    "\n",
    "# Extract the output embeddings from the last layer\n",
    "last_hidden_states = outputs.last_hidden_state\n",
    "\n",
    "# Print the output\n",
    "print(last_hidden_states)\n"
   ]
  },
  {
   "cell_type": "code",
   "execution_count": 6,
   "metadata": {},
   "outputs": [
    {
     "name": "stdout",
     "output_type": "stream",
     "text": [
      "tensor([[[ 0.0051, -0.0445, -0.2543,  ..., -0.4674,  0.1839,  0.4307],\n",
      "         [ 0.1518, -0.3346,  0.0500,  ..., -0.0397,  0.9728,  0.3340],\n",
      "         [-0.5165,  0.2028,  0.5212,  ..., -0.5615,  0.4370,  0.1435],\n",
      "         ...,\n",
      "         [-0.2533, -0.7244, -0.7809,  ..., -0.1901, -0.0070, -0.6356],\n",
      "         [-0.3863, -0.8991, -0.8409,  ...,  0.0749,  0.1376, -0.1122],\n",
      "         [ 0.5416, -0.1070, -0.3464,  ...,  0.1287, -0.4294, -0.2204]]],\n",
      "       grad_fn=<NativeLayerNormBackward0>)\n"
     ]
    }
   ],
   "source": [
    "print(last_hidden_states)"
   ]
  },
  {
   "cell_type": "code",
   "execution_count": null,
   "metadata": {},
   "outputs": [],
   "source": []
  }
 ],
 "metadata": {
  "kernelspec": {
   "display_name": "Python 3",
   "language": "python",
   "name": "python3"
  },
  "language_info": {
   "codemirror_mode": {
    "name": "ipython",
    "version": 3
   },
   "file_extension": ".py",
   "mimetype": "text/x-python",
   "name": "python",
   "nbconvert_exporter": "python",
   "pygments_lexer": "ipython3",
   "version": "3.10.13"
  }
 },
 "nbformat": 4,
 "nbformat_minor": 2
}
