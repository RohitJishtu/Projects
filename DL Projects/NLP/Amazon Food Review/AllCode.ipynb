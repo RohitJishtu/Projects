{
 "cells": [
  {
   "cell_type": "code",
   "execution_count": 1,
   "metadata": {
    "metadata": {}
   },
   "outputs": [
    {
     "name": "stdout",
     "output_type": "stream",
     "text": [
      "['/Users/rohit.jishtu/Documents/GitHub/Projects/DL Projects/NLP/Amazon Food Review', '/opt/homebrew/Cellar/python@3.10/3.10.13/Frameworks/Python.framework/Versions/3.10/lib/python310.zip', '/opt/homebrew/Cellar/python@3.10/3.10.13/Frameworks/Python.framework/Versions/3.10/lib/python3.10', '/opt/homebrew/Cellar/python@3.10/3.10.13/Frameworks/Python.framework/Versions/3.10/lib/python3.10/lib-dynload', '', '/Users/rohit.jishtu/Library/Python/3.10/lib/python/site-packages', '/opt/homebrew/lib/python3.10/site-packages', '/Users/rohit.jishtu/Documents/My Projects/GIt Bkp/Projects/ML Projects/Project 5 - Regression Problem']\n"
     ]
    }
   ],
   "source": [
    "# Import Libs\n",
    "\n",
    "import sys\n",
    "sys.path.append('/Users/rohit.jishtu/Documents/My Projects/GIt Bkp/Projects/ML Projects/Project 5 - Regression Problem')\n",
    "print(sys.path)\n",
    "\n",
    "import sqlite3\n",
    "import pandas as pd\n",
    "import matplotlib.pyplot as plt\n",
    "from Functions import *"
   ]
  },
  {
   "cell_type": "code",
   "execution_count": 2,
   "metadata": {
    "metadata": {}
   },
   "outputs": [],
   "source": [
    "# # Creating connection to the database \n",
    "# you can find this data set at Kaggle serach with Amazon food review Database \n",
    "# https://www.kaggle.com/datasets/snap/amazon-fine-food-reviews\n",
    "\n",
    "\n",
    "conn=sqlite3.connect('/Users/rohit.jishtu/Documents/My Projects/GIt Bkp/Projects/Deep Learning/NLP/Amazon Food Review/amazon_reviews/database.sqlite')"
   ]
  },
  {
   "cell_type": "code",
   "execution_count": 3,
   "metadata": {
    "metadata": {}
   },
   "outputs": [
    {
     "data": {
      "text/html": [
       "<div>\n",
       "<style scoped>\n",
       "    .dataframe tbody tr th:only-of-type {\n",
       "        vertical-align: middle;\n",
       "    }\n",
       "\n",
       "    .dataframe tbody tr th {\n",
       "        vertical-align: top;\n",
       "    }\n",
       "\n",
       "    .dataframe thead th {\n",
       "        text-align: right;\n",
       "    }\n",
       "</style>\n",
       "<table border=\"1\" class=\"dataframe\">\n",
       "  <thead>\n",
       "    <tr style=\"text-align: right;\">\n",
       "      <th></th>\n",
       "      <th>Id</th>\n",
       "      <th>ProductId</th>\n",
       "      <th>UserId</th>\n",
       "      <th>ProfileName</th>\n",
       "      <th>HelpfulnessNumerator</th>\n",
       "      <th>HelpfulnessDenominator</th>\n",
       "      <th>Score</th>\n",
       "      <th>Time</th>\n",
       "      <th>Summary</th>\n",
       "      <th>Text</th>\n",
       "    </tr>\n",
       "  </thead>\n",
       "  <tbody>\n",
       "    <tr>\n",
       "      <th>0</th>\n",
       "      <td>1</td>\n",
       "      <td>B001E4KFG0</td>\n",
       "      <td>A3SGXH7AUHU8GW</td>\n",
       "      <td>delmartian</td>\n",
       "      <td>1</td>\n",
       "      <td>1</td>\n",
       "      <td>5</td>\n",
       "      <td>1303862400</td>\n",
       "      <td>Good Quality Dog Food</td>\n",
       "      <td>I have bought several of the Vitality canned d...</td>\n",
       "    </tr>\n",
       "    <tr>\n",
       "      <th>1</th>\n",
       "      <td>2</td>\n",
       "      <td>B00813GRG4</td>\n",
       "      <td>A1D87F6ZCVE5NK</td>\n",
       "      <td>dll pa</td>\n",
       "      <td>0</td>\n",
       "      <td>0</td>\n",
       "      <td>1</td>\n",
       "      <td>1346976000</td>\n",
       "      <td>Not as Advertised</td>\n",
       "      <td>Product arrived labeled as Jumbo Salted Peanut...</td>\n",
       "    </tr>\n",
       "    <tr>\n",
       "      <th>2</th>\n",
       "      <td>3</td>\n",
       "      <td>B000LQOCH0</td>\n",
       "      <td>ABXLMWJIXXAIN</td>\n",
       "      <td>Natalia Corres \"Natalia Corres\"</td>\n",
       "      <td>1</td>\n",
       "      <td>1</td>\n",
       "      <td>4</td>\n",
       "      <td>1219017600</td>\n",
       "      <td>\"Delight\" says it all</td>\n",
       "      <td>This is a confection that has been around a fe...</td>\n",
       "    </tr>\n",
       "    <tr>\n",
       "      <th>3</th>\n",
       "      <td>4</td>\n",
       "      <td>B000UA0QIQ</td>\n",
       "      <td>A395BORC6FGVXV</td>\n",
       "      <td>Karl</td>\n",
       "      <td>3</td>\n",
       "      <td>3</td>\n",
       "      <td>2</td>\n",
       "      <td>1307923200</td>\n",
       "      <td>Cough Medicine</td>\n",
       "      <td>If you are looking for the secret ingredient i...</td>\n",
       "    </tr>\n",
       "    <tr>\n",
       "      <th>4</th>\n",
       "      <td>5</td>\n",
       "      <td>B006K2ZZ7K</td>\n",
       "      <td>A1UQRSCLF8GW1T</td>\n",
       "      <td>Michael D. Bigham \"M. Wassir\"</td>\n",
       "      <td>0</td>\n",
       "      <td>0</td>\n",
       "      <td>5</td>\n",
       "      <td>1350777600</td>\n",
       "      <td>Great taffy</td>\n",
       "      <td>Great taffy at a great price.  There was a wid...</td>\n",
       "    </tr>\n",
       "  </tbody>\n",
       "</table>\n",
       "</div>"
      ],
      "text/plain": [
       "   Id   ProductId          UserId                      ProfileName  \\\n",
       "0   1  B001E4KFG0  A3SGXH7AUHU8GW                       delmartian   \n",
       "1   2  B00813GRG4  A1D87F6ZCVE5NK                           dll pa   \n",
       "2   3  B000LQOCH0   ABXLMWJIXXAIN  Natalia Corres \"Natalia Corres\"   \n",
       "3   4  B000UA0QIQ  A395BORC6FGVXV                             Karl   \n",
       "4   5  B006K2ZZ7K  A1UQRSCLF8GW1T    Michael D. Bigham \"M. Wassir\"   \n",
       "\n",
       "   HelpfulnessNumerator  HelpfulnessDenominator  Score        Time  \\\n",
       "0                     1                       1      5  1303862400   \n",
       "1                     0                       0      1  1346976000   \n",
       "2                     1                       1      4  1219017600   \n",
       "3                     3                       3      2  1307923200   \n",
       "4                     0                       0      5  1350777600   \n",
       "\n",
       "                 Summary                                               Text  \n",
       "0  Good Quality Dog Food  I have bought several of the Vitality canned d...  \n",
       "1      Not as Advertised  Product arrived labeled as Jumbo Salted Peanut...  \n",
       "2  \"Delight\" says it all  This is a confection that has been around a fe...  \n",
       "3         Cough Medicine  If you are looking for the secret ingredient i...  \n",
       "4            Great taffy  Great taffy at a great price.  There was a wid...  "
      ]
     },
     "execution_count": 3,
     "metadata": {},
     "output_type": "execute_result"
    }
   ],
   "source": [
    "SourceDf= pd.read_sql(\"select * from reviews\",conn)\n",
    "SourceDf.head(5)"
   ]
  },
  {
   "cell_type": "markdown",
   "metadata": {},
   "source": [
    "# Step1: Labeling and Target identification"
   ]
  },
  {
   "cell_type": "code",
   "execution_count": 4,
   "metadata": {
    "metadata": {}
   },
   "outputs": [
    {
     "data": {
      "image/png": "[encoded data removed]",
      "text/plain": [
       "<Figure size 640x480 with 1 Axes>"
      ]
     },
     "metadata": {},
     "output_type": "display_data"
    }
   ],
   "source": [
    "plt.hist(SourceDf['Score'])\n",
    "SourceDf['Score'].value_counts().sort_index()\n",
    "\n",
    "# Remove neutral Score 3 from source \n",
    "SourceDf=SourceDf[SourceDf['Score']!=3]"
   ]
  },
  {
   "cell_type": "code",
   "execution_count": 5,
   "metadata": {
    "metadata": {}
   },
   "outputs": [
    {
     "data": {
      "text/plain": [
       "Positive    443777\n",
       "Negative     82037\n",
       "Name: Rating, dtype: int64"
      ]
     },
     "execution_count": 5,
     "metadata": {},
     "output_type": "execute_result"
    }
   ],
   "source": [
    "SourceDf['Rating']=SourceDf['Score'].apply(lambda x: 'Positive' if x >=4 else 'Negative')\n",
    "SourceDf['Rating'].value_counts()\n",
    "# plt.hist(SourceDf['Rating'])"
   ]
  },
  {
   "cell_type": "code",
   "execution_count": 6,
   "metadata": {
    "metadata": {}
   },
   "outputs": [
    {
     "data": {
      "text/html": [
       "<div>\n",
       "<style scoped>\n",
       "    .dataframe tbody tr th:only-of-type {\n",
       "        vertical-align: middle;\n",
       "    }\n",
       "\n",
       "    .dataframe tbody tr th {\n",
       "        vertical-align: top;\n",
       "    }\n",
       "\n",
       "    .dataframe thead th {\n",
       "        text-align: right;\n",
       "    }\n",
       "</style>\n",
       "<table border=\"1\" class=\"dataframe\">\n",
       "  <thead>\n",
       "    <tr style=\"text-align: right;\">\n",
       "      <th></th>\n",
       "      <th>Id</th>\n",
       "      <th>ProductId</th>\n",
       "      <th>UserId</th>\n",
       "      <th>ProfileName</th>\n",
       "      <th>HelpfulnessNumerator</th>\n",
       "      <th>HelpfulnessDenominator</th>\n",
       "      <th>Score</th>\n",
       "      <th>Time</th>\n",
       "      <th>Summary</th>\n",
       "      <th>Text</th>\n",
       "      <th>Rating</th>\n",
       "    </tr>\n",
       "  </thead>\n",
       "  <tbody>\n",
       "    <tr>\n",
       "      <th>254739</th>\n",
       "      <td>254740</td>\n",
       "      <td>B007PA32L2</td>\n",
       "      <td>A2FJ3HQ2RJAIYH</td>\n",
       "      <td>Jeanne Tomassi</td>\n",
       "      <td>7</td>\n",
       "      <td>7</td>\n",
       "      <td>1</td>\n",
       "      <td>1347321600</td>\n",
       "      <td>What happened to Pumpkin Spice?</td>\n",
       "      <td>[[ASIIN:B007PA32L2 Green Mountain Coffee, Pump...</td>\n",
       "      <td>Negative</td>\n",
       "    </tr>\n",
       "    <tr>\n",
       "      <th>434217</th>\n",
       "      <td>434218</td>\n",
       "      <td>B003Z6ZGZU</td>\n",
       "      <td>A2FJ3HQ2RJAIYH</td>\n",
       "      <td>Jeanne Tomassi</td>\n",
       "      <td>7</td>\n",
       "      <td>7</td>\n",
       "      <td>1</td>\n",
       "      <td>1347321600</td>\n",
       "      <td>What happened to Pumpkin Spice?</td>\n",
       "      <td>[[ASIIN:B007PA32L2 Green Mountain Coffee, Pump...</td>\n",
       "      <td>Negative</td>\n",
       "    </tr>\n",
       "  </tbody>\n",
       "</table>\n",
       "</div>"
      ],
      "text/plain": [
       "            Id   ProductId          UserId     ProfileName  \\\n",
       "254739  254740  B007PA32L2  A2FJ3HQ2RJAIYH  Jeanne Tomassi   \n",
       "434217  434218  B003Z6ZGZU  A2FJ3HQ2RJAIYH  Jeanne Tomassi   \n",
       "\n",
       "        HelpfulnessNumerator  HelpfulnessDenominator  Score        Time  \\\n",
       "254739                     7                       7      1  1347321600   \n",
       "434217                     7                       7      1  1347321600   \n",
       "\n",
       "                                Summary  \\\n",
       "254739  What happened to Pumpkin Spice?   \n",
       "434217  What happened to Pumpkin Spice?   \n",
       "\n",
       "                                                     Text    Rating  \n",
       "254739  [[ASIIN:B007PA32L2 Green Mountain Coffee, Pump...  Negative  \n",
       "434217  [[ASIIN:B007PA32L2 Green Mountain Coffee, Pump...  Negative  "
      ]
     },
     "execution_count": 6,
     "metadata": {},
     "output_type": "execute_result"
    }
   ],
   "source": [
    "SourceDf[(SourceDf['Rating']=='Negative') & (SourceDf['ProfileName']=='Jeanne Tomassi')]\n"
   ]
  },
  {
   "cell_type": "markdown",
   "metadata": {},
   "source": [
    "# Step 2 : Data Cleaning"
   ]
  },
  {
   "cell_type": "code",
   "execution_count": 7,
   "metadata": {
    "metadata": {}
   },
   "outputs": [
    {
     "data": {
      "text/plain": [
       "(525814, 11)"
      ]
     },
     "execution_count": 7,
     "metadata": {},
     "output_type": "execute_result"
    }
   ],
   "source": [
    "SourceDf.shape"
   ]
  },
  {
   "cell_type": "code",
   "execution_count": 8,
   "metadata": {
    "metadata": {}
   },
   "outputs": [],
   "source": [
    "# [[ASIIN:B007PA32L2 Green Mountain Coffee, Pumpkin Spice K-Cup packs for Keurig Brewers, \n",
    "#   50 count]]<br />I am so very disappointed in the lack of flavor and aroma \n",
    "# in the new packaging of the Pumpkin spice K-cup packs.<br />The packaging is different and it says \"light roast\".  \n",
    "# This is definately not the same coffee that I've enjoyed so much over the last 2 years. \n",
    "# I really hope they bring back the original flavor!!! What a shame!!!"
   ]
  },
  {
   "cell_type": "code",
   "execution_count": 9,
   "metadata": {
    "metadata": {}
   },
   "outputs": [],
   "source": [
    "# Finding the same review by a user and seeing of they are repeating \n",
    "Groupdata=SourceDf.groupby(['UserId','Text','ProductId'])['Text'].agg(['count']).reset_index().sort_values(by=['count'],ascending=False)"
   ]
  },
  {
   "cell_type": "code",
   "execution_count": 10,
   "metadata": {
    "metadata": {}
   },
   "outputs": [],
   "source": [
    "SourceDf = SourceDf.drop_duplicates(subset=['UserId','Text','ProductId'],keep='first')"
   ]
  },
  {
   "cell_type": "code",
   "execution_count": 11,
   "metadata": {
    "metadata": {}
   },
   "outputs": [
    {
     "data": {
      "text/plain": [
       "Index(['Id', 'ProductId', 'UserId', 'ProfileName', 'HelpfulnessNumerator',\n",
       "       'HelpfulnessDenominator', 'Score', 'Time', 'Summary', 'Text', 'Rating'],\n",
       "      dtype='object')"
      ]
     },
     "execution_count": 11,
     "metadata": {},
     "output_type": "execute_result"
    }
   ],
   "source": [
    "# (525814, 11) Before RemovinG Duplicates \n",
    "# (524587, 11) After RemovinG Duplicates \n",
    "SourceDf.columns"
   ]
  },
  {
   "cell_type": "code",
   "execution_count": 12,
   "metadata": {
    "metadata": {}
   },
   "outputs": [],
   "source": [
    "numeric_stats=CalBasicStats(SourceDf,'numeric')\n",
    "NONnumeric_stats=CalBasicStats(SourceDf,'nonnumeric')\n",
    "\n",
    "# The columns are high in variance skewed towards zero or 1 \n",
    "\n",
    "# plt.hist(SourceDf['HelpfulnessNumerator'],bins=5)\n",
    "# plt.hist(SourceDf['HelpfulnessDenominator'],bins=5)"
   ]
  },
  {
   "cell_type": "code",
   "execution_count": 13,
   "metadata": {
    "metadata": {}
   },
   "outputs": [
    {
     "name": "stdout",
     "output_type": "stream",
     "text": [
      "Positive    0.844224\n",
      "Negative    0.155776\n",
      "Name: Rating, dtype: float64\n"
     ]
    },
    {
     "data": {
      "text/plain": [
       "Text(0.5, 1.0, 'Target Distribution')"
      ]
     },
     "execution_count": 13,
     "metadata": {},
     "output_type": "execute_result"
    },
    {
     "data": {
      "image/png": "[encoded data removed]",
      "text/plain": [
       "<Figure size 400x300 with 1 Axes>"
      ]
     },
     "metadata": {},
     "output_type": "display_data"
    }
   ],
   "source": [
    "\n",
    "Targetdf=SourceDf.groupby(['Rating'])['Id'].count().reset_index()\n",
    "Targetdf['RatingPercentage'] = Targetdf['Id']/sum(Targetdf['Id'])\n",
    "print(SourceDf['Rating'].value_counts()/SourceDf.shape[0])\n",
    "\n",
    "\n",
    "# # Plotting target\n",
    "plt.figure(figsize=(4, 3))\n",
    "Targetdf['Rating']=Targetdf['Rating'].astype(str)\n",
    "plt.bar( Targetdf['Rating'], Targetdf['RatingPercentage'],color='#006E7F', width=0.9, align='center') \n",
    "\n",
    "plt.xlabel('Target')\n",
    "plt.ylabel('Percentage')\n",
    "plt.title('Target Distribution')\n"
   ]
  },
  {
   "cell_type": "code",
   "execution_count": 14,
   "metadata": {
    "metadata": {}
   },
   "outputs": [
    {
     "data": {
      "text/html": [
       "<div>\n",
       "<style scoped>\n",
       "    .dataframe tbody tr th:only-of-type {\n",
       "        vertical-align: middle;\n",
       "    }\n",
       "\n",
       "    .dataframe tbody tr th {\n",
       "        vertical-align: top;\n",
       "    }\n",
       "\n",
       "    .dataframe thead th {\n",
       "        text-align: right;\n",
       "    }\n",
       "</style>\n",
       "<table border=\"1\" class=\"dataframe\">\n",
       "  <thead>\n",
       "    <tr style=\"text-align: right;\">\n",
       "      <th></th>\n",
       "      <th>Rating</th>\n",
       "      <th>Id</th>\n",
       "      <th>RatingPercentage</th>\n",
       "    </tr>\n",
       "  </thead>\n",
       "  <tbody>\n",
       "    <tr>\n",
       "      <th>0</th>\n",
       "      <td>Negative</td>\n",
       "      <td>81718</td>\n",
       "      <td>0.155776</td>\n",
       "    </tr>\n",
       "    <tr>\n",
       "      <th>1</th>\n",
       "      <td>Positive</td>\n",
       "      <td>442869</td>\n",
       "      <td>0.844224</td>\n",
       "    </tr>\n",
       "  </tbody>\n",
       "</table>\n",
       "</div>"
      ],
      "text/plain": [
       "     Rating      Id  RatingPercentage\n",
       "0  Negative   81718          0.155776\n",
       "1  Positive  442869          0.844224"
      ]
     },
     "execution_count": 14,
     "metadata": {},
     "output_type": "execute_result"
    }
   ],
   "source": [
    "Targetdf"
   ]
  },
  {
   "cell_type": "markdown",
   "metadata": {},
   "source": [
    "# Step 3: Text Preprocessing "
   ]
  },
  {
   "cell_type": "code",
   "execution_count": 15,
   "metadata": {
    "metadata": {}
   },
   "outputs": [],
   "source": [
    "# Text Cleaning \n",
    "# Tokensisation \n",
    "# Stop word removal \n",
    "# Stemming  \n",
    "# lemmetisation \n"
   ]
  },
  {
   "cell_type": "code",
   "execution_count": 16,
   "metadata": {
    "metadata": {}
   },
   "outputs": [],
   "source": [
    "import nltk\n",
    "import re \n",
    "from nltk.tokenize import word_tokenize,sent_tokenize\n",
    "from nltk.corpus import stopwords \n",
    "from nltk.stem import SnowballStemmer , PorterStemmer \n",
    "from nltk.stem.wordnet import WordNetLemmatizer"
   ]
  },
  {
   "cell_type": "code",
   "execution_count": 17,
   "metadata": {
    "metadata": {}
   },
   "outputs": [],
   "source": [
    "text=\"\"\"- Excellent cuts of meat with no tendons.<br />- Very tasty. Just the right mix of spices.<br />- No added MSG \n",
    "and no added sugar!<br />- Convenient small snack-size bags.<br /><br />The best jerky I've ever encountered.\n",
    "\"\"\""
   ]
  },
  {
   "cell_type": "code",
   "execution_count": 18,
   "metadata": {
    "metadata": {}
   },
   "outputs": [],
   "source": [
    "def Preprocessing(inputdata):\n",
    "\n",
    "    # Activity 1 : Text Cleaning using regex \n",
    "    clean_data1 = re.sub(r'<br.\\s*/?>|-|\\n', '', inputdata)\n",
    "    clean_text = re.sub(r'[^\\w\\s]', '', clean_data1)\n",
    "    # print(f\"{clean_text=}\")\n",
    "    # Activity 2 : Tokenise\n",
    "    token_list=[]\n",
    "    for word in str.split(clean_text,' '):\n",
    "        if len(word)>0:\n",
    "            word=word.lower()\n",
    "            token_list.append(word)\n",
    "        \n",
    "    # print(f\"{token_list=}\")\n",
    "    \n",
    "    # Activity 3 : StopWords \n",
    "    stop_words_dict=stopwords.words(\"english\")\n",
    "    custome_stopwords =['abc','ahh','aahh']\n",
    "    stop_words=stop_words_dict+custome_stopwords\n",
    "    stop_word_list=[word for word in token_list if word not in stop_words]\n",
    "    # print(f\"{stop_word_list=}\")\n",
    "    \n",
    "    # # Activity 4.1 : Stemmer\n",
    "    # snow_stem=SnowballStemmer(\"english\")\n",
    "    # port_stem=PorterStemmer()\n",
    "\n",
    "    # poststem_list=[]\n",
    "    # for word in stop_word_list:\n",
    "    #     newword=snow_stem.stem(word)\n",
    "    #     # newword2=port_stem.stem(word)\n",
    "    #     print(f\"{word=}{newword=}\")\n",
    "    #     poststem_list.append(newword)\n",
    "\n",
    "    # Activity 4.2 : lemmetizer (emphasis on language)\n",
    "\n",
    "    word_lem = WordNetLemmatizer()\n",
    "    postlem_list=[]\n",
    "    for word in stop_word_list:\n",
    "        newword=word_lem.lemmatize(word)\n",
    "        # newword2=port_stem.stem(word)\n",
    "        # print(f\"{word=}{newword=}\")\n",
    "        postlem_list.append(newword)\n",
    "    textreturn = ' '.join(postlem_list)\n",
    "    return textreturn\n",
    "    \n",
    "    # stop_words=stopwrods.\n",
    " "
   ]
  },
  {
   "cell_type": "code",
   "execution_count": 19,
   "metadata": {
    "metadata": {}
   },
   "outputs": [],
   "source": [
    "# cleanedtext= Preprocessing(text)\n",
    "# word_tokenize(clean_text_1)"
   ]
  },
  {
   "cell_type": "code",
   "execution_count": 20,
   "metadata": {
    "metadata": {}
   },
   "outputs": [],
   "source": [
    "# Applying All preprocess to All the text column in data frame\n",
    "\n",
    "SourceDf['Processed_Text']=  SourceDf['Text'].apply(lambda x : Preprocessing(x))"
   ]
  },
  {
   "cell_type": "markdown",
   "metadata": {},
   "source": [
    "# Step 4 : Bag of Words "
   ]
  },
  {
   "cell_type": "code",
   "execution_count": 22,
   "metadata": {
    "metadata": {}
   },
   "outputs": [],
   "source": [
    "from sklearn.feature_extraction.text import CountVectorizer"
   ]
  },
  {
   "cell_type": "code",
   "execution_count": 23,
   "metadata": {
    "metadata": {}
   },
   "outputs": [
    {
     "ename": "NameError",
     "evalue": "name 'dtm_sparse_matrix' is not defined",
     "output_type": "error",
     "traceback": [
      "\u001b[0;31m---------------------------------------------------------------------------\u001b[0m",
      "\u001b[0;31mNameError\u001b[0m                                 Traceback (most recent call last)",
      "Cell \u001b[0;32mIn[23], line 4\u001b[0m\n\u001b[1;32m      1\u001b[0m CountVec\u001b[38;5;241m=\u001b[39mCountVectorizer(max_features\u001b[38;5;241m=\u001b[39m\u001b[38;5;241m1000\u001b[39m)\n\u001b[1;32m      2\u001b[0m dtm_sparse_matrix1 \u001b[38;5;241m=\u001b[39mCountVec\u001b[38;5;241m.\u001b[39mfit_transform(SourceDf[\u001b[38;5;124m'\u001b[39m\u001b[38;5;124mProcessed_Text\u001b[39m\u001b[38;5;124m'\u001b[39m])\n\u001b[0;32m----> 4\u001b[0m \u001b[43mdtm_sparse_matrix\u001b[49m\u001b[38;5;241m.\u001b[39mtoarray()\n",
      "\u001b[0;31mNameError\u001b[0m: name 'dtm_sparse_matrix' is not defined"
     ]
    }
   ],
   "source": [
    "CountVec=CountVectorizer(max_features=1000)\n",
    "dtm_sparse_matrix1 =CountVec.fit_transform(SourceDf['Processed_Text'])\n",
    "\n",
    "dtm_sparse_matrix1.toarray()"
   ]
  },
  {
   "cell_type": "code",
   "execution_count": 198,
   "metadata": {
    "metadata": {}
   },
   "outputs": [
    {
     "data": {
      "text/plain": [
       "array(['100', '12', '13', '14', '15', '16', '20', '24', '25', '30', '50',\n",
       "       'able', 'absolutely', 'acid', 'across', 'actual', 'actually',\n",
       "       'add', 'added', 'adding', 'addition', 'adult', 'afternoon',\n",
       "       'aftertaste', 'ago', 'agree', 'allergy', 'almond', 'almost',\n",
       "       'alone', 'along', 'already', 'also', 'alternative', 'although',\n",
       "       'always', 'amazing', 'amazon', 'amazoncom', 'american', 'amount',\n",
       "       'animal', 'another', 'anymore', 'anyone', 'anything', 'anyway',\n",
       "       'anywhere', 'apple', 'area', 'arent', 'aroma', 'around', 'arrived',\n",
       "       'artificial', 'ask', 'asked', 'ate', 'available', 'avoid', 'away',\n",
       "       'awesome', 'awful', 'baby', 'back', 'bad', 'bag', 'baked',\n",
       "       'baking', 'balance', 'ball', 'banana', 'bar', 'based', 'basically',\n",
       "       'batch', 'bbq', 'bean', 'beat', 'become', 'beef', 'believe',\n",
       "       'benefit', 'berry', 'best', 'better', 'beverage', 'big', 'biscuit',\n",
       "       'bit', 'bite', 'bitter', 'black', 'bland', 'blend', 'blood',\n",
       "       'blue', 'blueberry', 'body'], dtype=object)"
      ]
     },
     "execution_count": 198,
     "metadata": {},
     "output_type": "execute_result"
    }
   ],
   "source": [
    "CountVec.get_feature_names_out()[1:100]"
   ]
  },
  {
   "cell_type": "markdown",
   "metadata": {},
   "source": []
  },
  {
   "cell_type": "markdown",
   "metadata": {},
   "source": [
    "# Step 5 :Additional Dimension using BI Grams and Tri Grams"
   ]
  },
  {
   "cell_type": "code",
   "execution_count": 28,
   "metadata": {},
   "outputs": [],
   "source": [
    "CountVec=CountVectorizer(ngram_range=(1,3),min_df=0.1,max_df=0.99)\n",
    "dtm_sparse_matrix2=CountVec.fit_transform(SourceDf['Processed_Text'])\n",
    "\n",
    "# 1% rare words removed \n",
    "# 99% percent repetaing terms removed "
   ]
  },
  {
   "cell_type": "code",
   "execution_count": 25,
   "metadata": {},
   "outputs": [
    {
     "data": {
      "text/plain": [
       "array(['also', 'amazon', 'best', 'better', 'buy', 'coffee', 'dont',\n",
       "       'even', 'find', 'flavor', 'food', 'get', 'good', 'great', 'im',\n",
       "       'like', 'little', 'love', 'make', 'much', 'one', 'price',\n",
       "       'product', 'really', 'store', 'taste', 'time', 'tried', 'try',\n",
       "       'use', 'well', 'would'], dtype=object)"
      ]
     },
     "execution_count": 25,
     "metadata": {},
     "output_type": "execute_result"
    }
   ],
   "source": [
    "CountVec.get_feature_names_out()"
   ]
  },
  {
   "cell_type": "markdown",
   "metadata": {},
   "source": []
  },
  {
   "cell_type": "markdown",
   "metadata": {},
   "source": [
    "# Step  6 : TF - IDF  Matrix "
   ]
  },
  {
   "cell_type": "code",
   "execution_count": 29,
   "metadata": {},
   "outputs": [],
   "source": [
    "# How is this Diefferent from BOQ\n",
    "\n",
    "# TF = Occurance of terms in document  / Total terms in document \n",
    "# IDF : How rare is the word wrt to total Corpus \n",
    "\n",
    "# IDF = log(base10) (Total Documents in corpus / Occurance of the term in documents)\n",
    "# IDf for more frequent term is zero , less frequnent have some values \n",
    "\n",
    "# TF-IDF= tf * idf  "
   ]
  },
  {
   "cell_type": "code",
   "execution_count": 30,
   "metadata": {},
   "outputs": [],
   "source": [
    "from sklearn.feature_extraction.text import TfidfVectorizer"
   ]
  },
  {
   "cell_type": "code",
   "execution_count": 33,
   "metadata": {},
   "outputs": [
    {
     "data": {
      "text/plain": [
       "<524587x1243 sparse matrix of type '<class 'numpy.float64'>'\n",
       "\twith 13281227 stored elements in Compressed Sparse Row format>"
      ]
     },
     "execution_count": 33,
     "metadata": {},
     "output_type": "execute_result"
    }
   ],
   "source": [
    "tfidf=TfidfVectorizer(ngram_range=(1,2),min_df=0.005)\n",
    "tfidf_matrix = tfidf.fit_transform(SourceDf['Processed_Text'])\n",
    "\n",
    "\n",
    "tfidf_matrix"
   ]
  },
  {
   "cell_type": "markdown",
   "metadata": {},
   "source": []
  },
  {
   "cell_type": "code",
   "execution_count": 38,
   "metadata": {},
   "outputs": [
    {
     "data": {
      "text/plain": [
       "array(['also', 'amazon', 'best', 'better', 'buy', 'coffee', 'dont',\n",
       "       'even', 'find', 'flavor', 'food', 'get', 'good', 'great', 'im',\n",
       "       'like', 'little', 'love', 'make', 'much', 'one', 'price',\n",
       "       'product', 'really', 'store', 'taste', 'time', 'tried', 'try',\n",
       "       'use', 'well', 'would'], dtype=object)"
      ]
     },
     "execution_count": 38,
     "metadata": {},
     "output_type": "execute_result"
    }
   ],
   "source": [
    "CountVec.get_feature_names_out()"
   ]
  },
  {
   "cell_type": "markdown",
   "metadata": {},
   "source": [
    "# Step 7 :Model Building  - SVM Classifier "
   ]
  },
  {
   "cell_type": "code",
   "execution_count": 49,
   "metadata": {},
   "outputs": [],
   "source": [
    "from sklearn.model_selection import train_test_split\n",
    "from sklearn.svm import LinearSVC\n",
    "from sklearn.metrics import accuracy_score,classification_report,confusion_matrix\n"
   ]
  },
  {
   "cell_type": "code",
   "execution_count": 43,
   "metadata": {},
   "outputs": [],
   "source": [
    "SourceDf['Target']=SourceDf['Rating'].map({'Positive':1,'Negative':0})"
   ]
  },
  {
   "cell_type": "code",
   "execution_count": 51,
   "metadata": {},
   "outputs": [],
   "source": [
    "X=SourceDf['Processed_Text']\n",
    "Y=SourceDf['Target']"
   ]
  },
  {
   "cell_type": "code",
   "execution_count": 55,
   "metadata": {},
   "outputs": [
    {
     "data": {
      "text/plain": [
       "(157377,)"
      ]
     },
     "execution_count": 55,
     "metadata": {},
     "output_type": "execute_result"
    }
   ],
   "source": [
    "X_train,X_test,Y_train,y_test=train_test_split(X,Y,test_size=0.30,random_state=12)\n",
    "X_train.shape,\n",
    "X_test.shape\n",
    "Y_train.shape\n",
    "y_test.shape"
   ]
  },
  {
   "cell_type": "code",
   "execution_count": 59,
   "metadata": {},
   "outputs": [],
   "source": [
    "# We will use tfidf to transform data to tf IDF \n",
    "X_Train_tfidf=tfidf.fit_transform(X_train)\n",
    "X_Test_tfidf= tfidf.transform(X_test)"
   ]
  },
  {
   "cell_type": "code",
   "execution_count": 57,
   "metadata": {},
   "outputs": [],
   "source": [
    "SVM_classifier = LinearSVC(C=1,penalty='l1',dual=False,random_state=12)"
   ]
  },
  {
   "cell_type": "code",
   "execution_count": 60,
   "metadata": {},
   "outputs": [
    {
     "data": {
      "text/html": [
       "<style>#sk-container-id-1 {color: black;}#sk-container-id-1 pre{padding: 0;}#sk-container-id-1 div.sk-toggleable {background-color: white;}#sk-container-id-1 label.sk-toggleable__label {cursor: pointer;display: block;width: 100%;margin-bottom: 0;padding: 0.3em;box-sizing: border-box;text-align: center;}#sk-container-id-1 label.sk-toggleable__label-arrow:before {content: \"▸\";float: left;margin-right: 0.25em;color: #696969;}#sk-container-id-1 label.sk-toggleable__label-arrow:hover:before {color: black;}#sk-container-id-1 div.sk-estimator:hover label.sk-toggleable__label-arrow:before {color: black;}#sk-container-id-1 div.sk-toggleable__content {max-height: 0;max-width: 0;overflow: hidden;text-align: left;background-color: #f0f8ff;}#sk-container-id-1 div.sk-toggleable__content pre {margin: 0.2em;color: black;border-radius: 0.25em;background-color: #f0f8ff;}#sk-container-id-1 input.sk-toggleable__control:checked~div.sk-toggleable__content {max-height: 200px;max-width: 100%;overflow: auto;}#sk-container-id-1 input.sk-toggleable__control:checked~label.sk-toggleable__label-arrow:before {content: \"▾\";}#sk-container-id-1 div.sk-estimator input.sk-toggleable__control:checked~label.sk-toggleable__label {background-color: #d4ebff;}#sk-container-id-1 div.sk-label input.sk-toggleable__control:checked~label.sk-toggleable__label {background-color: #d4ebff;}#sk-container-id-1 input.sk-hidden--visually {border: 0;clip: rect(1px 1px 1px 1px);clip: rect(1px, 1px, 1px, 1px);height: 1px;margin: -1px;overflow: hidden;padding: 0;position: absolute;width: 1px;}#sk-container-id-1 div.sk-estimator {font-family: monospace;background-color: #f0f8ff;border: 1px dotted black;border-radius: 0.25em;box-sizing: border-box;margin-bottom: 0.5em;}#sk-container-id-1 div.sk-estimator:hover {background-color: #d4ebff;}#sk-container-id-1 div.sk-parallel-item::after {content: \"\";width: 100%;border-bottom: 1px solid gray;flex-grow: 1;}#sk-container-id-1 div.sk-label:hover label.sk-toggleable__label {background-color: #d4ebff;}#sk-container-id-1 div.sk-serial::before {content: \"\";position: absolute;border-left: 1px solid gray;box-sizing: border-box;top: 0;bottom: 0;left: 50%;z-index: 0;}#sk-container-id-1 div.sk-serial {display: flex;flex-direction: column;align-items: center;background-color: white;padding-right: 0.2em;padding-left: 0.2em;position: relative;}#sk-container-id-1 div.sk-item {position: relative;z-index: 1;}#sk-container-id-1 div.sk-parallel {display: flex;align-items: stretch;justify-content: center;background-color: white;position: relative;}#sk-container-id-1 div.sk-item::before, #sk-container-id-1 div.sk-parallel-item::before {content: \"\";position: absolute;border-left: 1px solid gray;box-sizing: border-box;top: 0;bottom: 0;left: 50%;z-index: -1;}#sk-container-id-1 div.sk-parallel-item {display: flex;flex-direction: column;z-index: 1;position: relative;background-color: white;}#sk-container-id-1 div.sk-parallel-item:first-child::after {align-self: flex-end;width: 50%;}#sk-container-id-1 div.sk-parallel-item:last-child::after {align-self: flex-start;width: 50%;}#sk-container-id-1 div.sk-parallel-item:only-child::after {width: 0;}#sk-container-id-1 div.sk-dashed-wrapped {border: 1px dashed gray;margin: 0 0.4em 0.5em 0.4em;box-sizing: border-box;padding-bottom: 0.4em;background-color: white;}#sk-container-id-1 div.sk-label label {font-family: monospace;font-weight: bold;display: inline-block;line-height: 1.2em;}#sk-container-id-1 div.sk-label-container {text-align: center;}#sk-container-id-1 div.sk-container {/* jupyter's `normalize.less` sets `[hidden] { display: none; }` but bootstrap.min.css set `[hidden] { display: none !important; }` so we also need the `!important` here to be able to override the default hidden behavior on the sphinx rendered scikit-learn.org. See: https://github.com/scikit-learn/scikit-learn/issues/21755 */display: inline-block !important;position: relative;}#sk-container-id-1 div.sk-text-repr-fallback {display: none;}</style><div id=\"sk-container-id-1\" class=\"sk-top-container\"><div class=\"sk-text-repr-fallback\"><pre>LinearSVC(C=1, dual=False, penalty=&#x27;l1&#x27;, random_state=12)</pre><b>In a Jupyter environment, please rerun this cell to show the HTML representation or trust the notebook. <br />On GitHub, the HTML representation is unable to render, please try loading this page with nbviewer.org.</b></div><div class=\"sk-container\" hidden><div class=\"sk-item\"><div class=\"sk-estimator sk-toggleable\"><input class=\"sk-toggleable__control sk-hidden--visually\" id=\"sk-estimator-id-1\" type=\"checkbox\" checked><label for=\"sk-estimator-id-1\" class=\"sk-toggleable__label sk-toggleable__label-arrow\">LinearSVC</label><div class=\"sk-toggleable__content\"><pre>LinearSVC(C=1, dual=False, penalty=&#x27;l1&#x27;, random_state=12)</pre></div></div></div></div></div>"
      ],
      "text/plain": [
       "LinearSVC(C=1, dual=False, penalty='l1', random_state=12)"
      ]
     },
     "execution_count": 60,
     "metadata": {},
     "output_type": "execute_result"
    }
   ],
   "source": [
    "SVM_classifier.fit(X_Train_tfidf,Y_train)\n"
   ]
  },
  {
   "cell_type": "code",
   "execution_count": 64,
   "metadata": {},
   "outputs": [],
   "source": [
    "Preds=SVM_classifier.predict(X_Test_tfidf)"
   ]
  },
  {
   "cell_type": "code",
   "execution_count": 65,
   "metadata": {},
   "outputs": [
    {
     "data": {
      "text/html": [
       "<div>\n",
       "<style scoped>\n",
       "    .dataframe tbody tr th:only-of-type {\n",
       "        vertical-align: middle;\n",
       "    }\n",
       "\n",
       "    .dataframe tbody tr th {\n",
       "        vertical-align: top;\n",
       "    }\n",
       "\n",
       "    .dataframe thead th {\n",
       "        text-align: right;\n",
       "    }\n",
       "</style>\n",
       "<table border=\"1\" class=\"dataframe\">\n",
       "  <thead>\n",
       "    <tr style=\"text-align: right;\">\n",
       "      <th>col_0</th>\n",
       "      <th>0</th>\n",
       "      <th>1</th>\n",
       "    </tr>\n",
       "    <tr>\n",
       "      <th>Target</th>\n",
       "      <th></th>\n",
       "      <th></th>\n",
       "    </tr>\n",
       "  </thead>\n",
       "  <tbody>\n",
       "    <tr>\n",
       "      <th>0</th>\n",
       "      <td>15223</td>\n",
       "      <td>9428</td>\n",
       "    </tr>\n",
       "    <tr>\n",
       "      <th>1</th>\n",
       "      <td>3648</td>\n",
       "      <td>129078</td>\n",
       "    </tr>\n",
       "  </tbody>\n",
       "</table>\n",
       "</div>"
      ],
      "text/plain": [
       "col_0       0       1\n",
       "Target               \n",
       "0       15223    9428\n",
       "1        3648  129078"
      ]
     },
     "execution_count": 65,
     "metadata": {},
     "output_type": "execute_result"
    }
   ],
   "source": [
    "pd.crosstab(y_test,Preds)"
   ]
  },
  {
   "cell_type": "markdown",
   "metadata": {},
   "source": [
    "# Step 8 :Model Matrix "
   ]
  },
  {
   "cell_type": "code",
   "execution_count": 66,
   "metadata": {},
   "outputs": [
    {
     "data": {
      "text/html": [
       "<div>\n",
       "<style scoped>\n",
       "    .dataframe tbody tr th:only-of-type {\n",
       "        vertical-align: middle;\n",
       "    }\n",
       "\n",
       "    .dataframe tbody tr th {\n",
       "        vertical-align: top;\n",
       "    }\n",
       "\n",
       "    .dataframe thead th {\n",
       "        text-align: right;\n",
       "    }\n",
       "</style>\n",
       "<table border=\"1\" class=\"dataframe\">\n",
       "  <thead>\n",
       "    <tr style=\"text-align: right;\">\n",
       "      <th>col_0</th>\n",
       "      <th>0</th>\n",
       "      <th>1</th>\n",
       "    </tr>\n",
       "    <tr>\n",
       "      <th>Target</th>\n",
       "      <th></th>\n",
       "      <th></th>\n",
       "    </tr>\n",
       "  </thead>\n",
       "  <tbody>\n",
       "    <tr>\n",
       "      <th>0</th>\n",
       "      <td>15223</td>\n",
       "      <td>9428</td>\n",
       "    </tr>\n",
       "    <tr>\n",
       "      <th>1</th>\n",
       "      <td>3648</td>\n",
       "      <td>129078</td>\n",
       "    </tr>\n",
       "  </tbody>\n",
       "</table>\n",
       "</div>"
      ],
      "text/plain": [
       "col_0       0       1\n",
       "Target               \n",
       "0       15223    9428\n",
       "1        3648  129078"
      ]
     },
     "execution_count": 66,
     "metadata": {},
     "output_type": "execute_result"
    }
   ],
   "source": [
    "pd.crosstab(y_test,Preds)"
   ]
  },
  {
   "cell_type": "code",
   "execution_count": 69,
   "metadata": {},
   "outputs": [
    {
     "name": "stdout",
     "output_type": "stream",
     "text": [
      "              precision    recall  f1-score   support\n",
      "\n",
      "           0       0.81      0.62      0.70     24651\n",
      "           1       0.93      0.97      0.95    132726\n",
      "\n",
      "    accuracy                           0.92    157377\n",
      "   macro avg       0.87      0.80      0.83    157377\n",
      "weighted avg       0.91      0.92      0.91    157377\n",
      "\n"
     ]
    }
   ],
   "source": [
    "print(classification_report(y_test,Preds))"
   ]
  },
  {
   "cell_type": "code",
   "execution_count": null,
   "metadata": {},
   "outputs": [],
   "source": []
  }
 ],
 "metadata": {
  "kernelspec": {
   "display_name": "Python 3",
   "language": "python",
   "name": "python3"
  },
  "language_info": {
   "codemirror_mode": {
    "name": "ipython",
    "version": 3
   },
   "file_extension": ".py",
   "mimetype": "text/x-python",
   "name": "python",
   "nbconvert_exporter": "python",
   "pygments_lexer": "ipython3",
   "version": "3.10.13"
  }
 },
 "nbformat": 4,
 "nbformat_minor": 2
}
