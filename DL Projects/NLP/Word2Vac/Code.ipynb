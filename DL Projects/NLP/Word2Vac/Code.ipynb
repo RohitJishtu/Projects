{
 "cells": [
  {
   "cell_type": "code",
   "execution_count": 6,
   "metadata": {},
   "outputs": [],
   "source": [
    "from gensim.models import KeyedVectors\n",
    "\n",
    "\n"
   ]
  },
  {
   "cell_type": "code",
   "execution_count": 13,
   "metadata": {},
   "outputs": [],
   "source": [
    "# Google News Model \n",
    "model_path = '/Users/rohit.jishtu/Documents/MODELS/GoogleNews-vectors-negative300 (1).bin.gz'\n",
    "model = KeyedVectors.load_word2vec_format(model_path, binary=True)"
   ]
  },
  {
   "cell_type": "markdown",
   "metadata": {},
   "source": [
    "# Step 1: Prepare the Corpus"
   ]
  },
  {
   "cell_type": "code",
   "execution_count": 9,
   "metadata": {},
   "outputs": [],
   "source": [
    "# For demonstration, we'll assume we have a pre-trained Word2Vec model from a large corpus such as Google News, \n",
    "# which is commonly used for such tasks.\n"
   ]
  },
  {
   "cell_type": "code",
   "execution_count": 11,
   "metadata": {},
   "outputs": [],
   "source": [
    "# print(model['king'])\n",
    "# print(model['man'])\n",
    "# print(model['queen'])"
   ]
  },
  {
   "cell_type": "code",
   "execution_count": 15,
   "metadata": {},
   "outputs": [
    {
     "name": "stdout",
     "output_type": "stream",
     "text": [
      "[('woman', 0.7609436511993408), ('girl', 0.6139993667602539), ('teenage_girl', 0.6040961146354675), ('teenager', 0.5825758576393127), ('lady', 0.5752554535865784), ('boy', 0.5077577233314514), ('policewoman', 0.5066847801208496), ('schoolgirl', 0.5052095651626587), ('blonde', 0.48696184158325195), ('person', 0.4863754212856293)]\n"
     ]
    }
   ],
   "source": [
    "result = model.most_similar(positive=['queen', 'man'], negative=['king'], topn=10)\n",
    "print(result)"
   ]
  },
  {
   "cell_type": "code",
   "execution_count": null,
   "metadata": {},
   "outputs": [],
   "source": []
  }
 ],
 "metadata": {
  "kernelspec": {
   "display_name": "Python 3",
   "language": "python",
   "name": "python3"
  },
  "language_info": {
   "codemirror_mode": {
    "name": "ipython",
    "version": 3
   },
   "file_extension": ".py",
   "mimetype": "text/x-python",
   "name": "python",
   "nbconvert_exporter": "python",
   "pygments_lexer": "ipython3",
   "version": "3.10.13"
  }
 },
 "nbformat": 4,
 "nbformat_minor": 2
}
