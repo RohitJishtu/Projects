{
  "nbformat": 4,
  "nbformat_minor": 0,
  "metadata": {
    "colab": {
      "provenance": [],
      "authorship_tag": "ABX9TyPXEmrfW+/MT/4gCS5Jx2fj"
    },
    "kernelspec": {
      "name": "python3",
      "display_name": "Python 3"
    },
    "language_info": {
      "name": "python"
    }
  },
  "cells": [
    {
      "cell_type": "code",
      "source": [
        "# Ques 1\n",
        "# LC COde\n",
        "# 27. Remove Element\n",
        "\n",
        "# nums =[3,2,2,3]\n",
        "# val=3\n",
        "\n",
        "nums =[0,1,2,2,3,0,4,2]\n",
        "val=2\n",
        "nums2=[]\n",
        "d={}\n",
        "d['val']=0\n",
        "k=''\n",
        "l=len(nums)\n",
        "\n",
        "def removeElement(nums, val):\n",
        "        i=0\n",
        "        l=len(nums)\n",
        "        for i in range(0,l):\n",
        "            if nums[i] == val:\n",
        "                # print(i)\n",
        "                d['val']+= 1\n",
        "                nums[i]='_'\n",
        "        for i in nums:\n",
        "                nums.remove('_')\n",
        "                nums.append('_')\n",
        "                print(nums)\n",
        "        return(d['val'],nums)\n",
        "\n",
        "\n",
        "print('Output of the function is ' ,removeElement(nums,val))"
      ],
      "metadata": {
        "colab": {
          "base_uri": "https://localhost:8080/"
        },
        "id": "vNrHbJSXW8mC",
        "outputId": "0b9c29a8-2ab6-4a41-9642-bb732490ad90"
      },
      "execution_count": null,
      "outputs": [
        {
          "output_type": "stream",
          "name": "stdout",
          "text": [
            "[0, 1, '_', 3, 0, 4, '_', '_']\n",
            "[0, 1, 3, 0, 4, '_', '_', '_']\n",
            "[0, 1, 3, 0, 4, '_', '_', '_']\n",
            "[0, 1, 3, 0, 4, '_', '_', '_']\n",
            "[0, 1, 3, 0, 4, '_', '_', '_']\n",
            "[0, 1, 3, 0, 4, '_', '_', '_']\n",
            "[0, 1, 3, 0, 4, '_', '_', '_']\n",
            "[0, 1, 3, 0, 4, '_', '_', '_']\n",
            "Output of the function is  (3, [0, 1, 3, 0, 4, '_', '_', '_'])\n"
          ]
        }
      ]
    },
    {
      "cell_type": "code",
      "source": [
        "# Ques 2\n",
        "# Input: nums = [0,0,1,1,1,2,2,3,3,4]\n",
        "# Output: 5, nums = [0,1,2,3,4,_,_,_,_,_]\n",
        "\n",
        "# Input: nums = [1,1,2]\n",
        "# Output: 2, nums = [1,2,_]\n",
        "\n",
        "\n",
        "nums =  [0,0,1,1,1,2,2,3,3,4]\n",
        "def removeDuplicates(nums):\n",
        "        dict={}\n",
        "        length=len(nums)\n",
        "        for i in range(0,length):\n",
        "          if nums[i] not in dict:\n",
        "             dict[nums[i]]=1\n",
        "             print('IF')\n",
        "            #  print(dict)\n",
        "            #  print(nums)\n",
        "          else:\n",
        "            nums[i]='_'\n",
        "            print('Else')\n",
        "            # print(nums)\n",
        "        k=sum(dict.values())\n",
        "        remove=0\n",
        "        while '_' in nums:\n",
        "          nums.remove('_')\n",
        "          remove += 1\n",
        "        for i in range(0,remove):\n",
        "          nums.append('_')\n",
        "\n",
        "        return k,nums\n",
        "print(removeDuplicates(nums))\n",
        "\n",
        "# Time :O(n)\n",
        "# Space : O(1)"
      ],
      "metadata": {
        "id": "CeJAj8_AXIUG",
        "colab": {
          "base_uri": "https://localhost:8080/"
        },
        "outputId": "d81bc64f-62b0-4e93-91bb-b2f45e920767"
      },
      "execution_count": null,
      "outputs": [
        {
          "output_type": "stream",
          "name": "stdout",
          "text": [
            "IF\n",
            "Else\n",
            "IF\n",
            "Else\n",
            "Else\n",
            "IF\n",
            "Else\n",
            "IF\n",
            "Else\n",
            "IF\n",
            "(5, [0, 1, 2, 3, 4, '_', '_', '_', '_', '_'])\n"
          ]
        }
      ]
    },
    {
      "cell_type": "code",
      "source": [
        "# Ques 3\n",
        "# 189. Rotate Array\n",
        "\n",
        "# Input: nums = [1,2,3,4,5,6,7], k = 3\n",
        "# Output: [5,6,7,1,2,3,4]\n",
        "\n",
        "# Input: nums = [-1,-100,3,99], k = 2\n",
        "# Output: [3,99,-1,-100]\n",
        "\n",
        "nums = [1,2]\n",
        "k = 2\n",
        "\n",
        "# length = 0,1,2,3\n",
        "\n",
        "# 0=2\n",
        "# 1=3\n",
        "# 2=0\n",
        "# 3=1\n",
        "\n",
        "print('length',len(nums))\n",
        "result=nums.copy()\n",
        "j=0\n",
        "for i in range(0,len(nums)):\n",
        "    if len(nums)==2:\n",
        "      result[i]=nums[i+1]\n",
        "      result[i+1]=nums[i]\n",
        "      break\n",
        "    if i < len(nums)-k:\n",
        "      print('before',result)\n",
        "      print('nums',nums[i])\n",
        "      print('i',i)\n",
        "      result[i+k]=nums[i]\n",
        "      print('after',result)\n",
        "    else:\n",
        "      print('else')\n",
        "      print('before nums',nums)\n",
        "      print('before',result)\n",
        "      result[j]=nums[i]\n",
        "      print('after',result)\n",
        "      j+=1\n",
        "\n",
        "\n",
        "print(result)\n",
        "\n",
        "# class Solution:\n",
        "#     def rotate(self, nums: List[int], k: int) -> None:\n",
        "#         result=nums.copy()\n",
        "#         j=0\n",
        "#         if k > len(nums):\n",
        "#             k=k%len(nums)\n",
        "#         for i in range(0,len(nums)):\n",
        "#             if (len(nums)==2) and (k%2!=0):\n",
        "#                 nums[i]=result[i+1]\n",
        "#                 nums[i+1]=result[i]\n",
        "#                 break\n",
        "#             if i < len(nums)-k:\n",
        "#                 nums[i+k]=result[i]\n",
        "#             else:\n",
        "#                 nums[j]=result[i]\n",
        "#                 j+=1\n",
        "\n",
        "\n",
        "# Time :O(n)\n",
        "# Space : O(n)\n"
      ],
      "metadata": {
        "colab": {
          "base_uri": "https://localhost:8080/"
        },
        "id": "m3hy7VPx0FEa",
        "outputId": "b9cf8979-2964-4c11-d229-c494996729b4"
      },
      "execution_count": null,
      "outputs": [
        {
          "output_type": "stream",
          "name": "stdout",
          "text": [
            "length 2\n",
            "[2, 1]\n"
          ]
        }
      ]
    },
    {
      "cell_type": "code",
      "source": [
        "# Ques - Meta Interview\n",
        "# K and sorted array\n",
        "# sum = k or less print index\n",
        "\n",
        "\n",
        "a = [ 1,3,5,8,9,11,13]\n",
        "k = 8\n",
        "\n",
        "# 1+13 = 8 j>k , j-- else  i++\n",
        "\n",
        "# 1+11 = 8 j--\n",
        "\n",
        "# 1+8 = 8 j--\n",
        "\n",
        "# 3+5 = 5 , print (i,j)\n",
        "\n",
        "\n",
        "i=0\n",
        "j=len(a)-1\n",
        "while i< j:\n",
        "    if (a[i]+a[j])==k :\n",
        "        print('Result i=',i,'j=',j)\n",
        "        break\n",
        "    elif a[j]>=k:\n",
        "        print('Elsif i=',i,'j=',j)\n",
        "        j-=1\n",
        "    else:\n",
        "        print('Else i=',i,'j=',j)\n",
        "        i+=1\n",
        "\n",
        "# Two pointer solution\n",
        "\n",
        "\n",
        "# Time :O(n)\n",
        "# Space : O(n)\n"
      ],
      "metadata": {
        "colab": {
          "base_uri": "https://localhost:8080/"
        },
        "id": "vdO9ErYLhLjr",
        "outputId": "8b6abbc4-223a-4cc7-c83d-5df8144bd933"
      },
      "execution_count": null,
      "outputs": [
        {
          "output_type": "stream",
          "name": "stdout",
          "text": [
            "Elsif i= 0 j= 6\n",
            "Elsif i= 0 j= 5\n",
            "Elsif i= 0 j= 4\n",
            "Elsif i= 0 j= 3\n",
            "Else i= 0 j= 2\n",
            "Result i= 1 j= 2\n"
          ]
        }
      ]
    },
    {
      "cell_type": "markdown",
      "source": [],
      "metadata": {
        "id": "0Yxb6X5Cgl3a"
      }
    },
    {
      "cell_type": "code",
      "source": [
        "# Ques 4\n",
        "# 151. Reverse Words in a String\n",
        "\n",
        "# Example 1:\n",
        "\n",
        "# Input: s = \"the sky is blue\"\n",
        "# Output: \"blue is sky the\"\n",
        "# Example 2:\n",
        "\n",
        "# Input: s = \"  hello world  \"\n",
        "# Output: \"world hello\"\n",
        "# Explanation: Your reversed string should not contain leading or trailing spaces.\n",
        "# Example 3:\n",
        "\n",
        "# Input: s = \"a good   example\"\n",
        "# Output: \"example good a\"\n",
        "# Explanation: You need to reduce multiple spaces between two words to a single space in the reversed string.\n",
        "\n",
        "import string\n",
        "# s =  \"the sky is blue\"\n",
        "#s = \"a good   example\"\n",
        "# s=\"  hello world  \"\n",
        "s=\"  Bob    Loves  Alice   \"\n",
        "\n",
        "# Step 1:Convert to list of word\n",
        "# Step 2:revert the list\n",
        "\n",
        "# Chars=list(string.ascii_lowercase)\n",
        "print(s)\n",
        "dict={}\n",
        "j=0\n",
        "for i in range(0,len(s)):\n",
        "    if (s[i] != ' '):\n",
        "      print(\"in If 1\")\n",
        "      print(\"dict before\",dict)\n",
        "      if j not in dict:\n",
        "        dict[j]=''\n",
        "        dict[j]+=s[i]\n",
        "      else:\n",
        "        dict[j]+=s[i]\n",
        "        print(\"dict before\",dict)\n",
        "    elif len(dict)>0:\n",
        "      print(dict)\n",
        "      print(\"in If 2\")\n",
        "      if j >= len(dict):\n",
        "        j=len(dict)\n",
        "      else:\n",
        "        j+=1\n",
        "      print(\"j is\",j)\n",
        "print('dict final ',dict)\n",
        "print(len(dict))\n",
        "string=\"\"\n",
        "j=len(dict)-1\n",
        "for i in range(0,(len(dict))):\n",
        "  print(i)\n",
        "  print(dict[j])\n",
        "  if string==\"\":\n",
        "    string=string+ dict[j]\n",
        "  else:\n",
        "    string=string +\" \"+ dict[j]\n",
        "  j-=1\n",
        "print(string)\n",
        "\n",
        "\n"
      ],
      "metadata": {
        "colab": {
          "base_uri": "https://localhost:8080/"
        },
        "id": "A76_MNYvoW1t",
        "outputId": "c6033632-176b-4ed0-b3c5-e43dfadb17a5"
      },
      "execution_count": null,
      "outputs": [
        {
          "output_type": "stream",
          "name": "stdout",
          "text": [
            "  Bob    Loves  Alice   \n",
            "in If 1\n",
            "dict before {}\n",
            "in If 1\n",
            "dict before {0: 'B'}\n",
            "dict before {0: 'Bo'}\n",
            "in If 1\n",
            "dict before {0: 'Bo'}\n",
            "dict before {0: 'Bob'}\n",
            "{0: 'Bob'}\n",
            "in If 2\n",
            "j is 1\n",
            "{0: 'Bob'}\n",
            "in If 2\n",
            "j is 1\n",
            "{0: 'Bob'}\n",
            "in If 2\n",
            "j is 1\n",
            "{0: 'Bob'}\n",
            "in If 2\n",
            "j is 1\n",
            "in If 1\n",
            "dict before {0: 'Bob'}\n",
            "in If 1\n",
            "dict before {0: 'Bob', 1: 'L'}\n",
            "dict before {0: 'Bob', 1: 'Lo'}\n",
            "in If 1\n",
            "dict before {0: 'Bob', 1: 'Lo'}\n",
            "dict before {0: 'Bob', 1: 'Lov'}\n",
            "in If 1\n",
            "dict before {0: 'Bob', 1: 'Lov'}\n",
            "dict before {0: 'Bob', 1: 'Love'}\n",
            "in If 1\n",
            "dict before {0: 'Bob', 1: 'Love'}\n",
            "dict before {0: 'Bob', 1: 'Loves'}\n",
            "{0: 'Bob', 1: 'Loves'}\n",
            "in If 2\n",
            "j is 2\n",
            "{0: 'Bob', 1: 'Loves'}\n",
            "in If 2\n",
            "j is 2\n",
            "in If 1\n",
            "dict before {0: 'Bob', 1: 'Loves'}\n",
            "in If 1\n",
            "dict before {0: 'Bob', 1: 'Loves', 2: 'A'}\n",
            "dict before {0: 'Bob', 1: 'Loves', 2: 'Al'}\n",
            "in If 1\n",
            "dict before {0: 'Bob', 1: 'Loves', 2: 'Al'}\n",
            "dict before {0: 'Bob', 1: 'Loves', 2: 'Ali'}\n",
            "in If 1\n",
            "dict before {0: 'Bob', 1: 'Loves', 2: 'Ali'}\n",
            "dict before {0: 'Bob', 1: 'Loves', 2: 'Alic'}\n",
            "in If 1\n",
            "dict before {0: 'Bob', 1: 'Loves', 2: 'Alic'}\n",
            "dict before {0: 'Bob', 1: 'Loves', 2: 'Alice'}\n",
            "{0: 'Bob', 1: 'Loves', 2: 'Alice'}\n",
            "in If 2\n",
            "j is 3\n",
            "{0: 'Bob', 1: 'Loves', 2: 'Alice'}\n",
            "in If 2\n",
            "j is 3\n",
            "{0: 'Bob', 1: 'Loves', 2: 'Alice'}\n",
            "in If 2\n",
            "j is 3\n",
            "dict final  {0: 'Bob', 1: 'Loves', 2: 'Alice'}\n",
            "3\n",
            "0\n",
            "Alice\n",
            "1\n",
            "Loves\n",
            "2\n",
            "Bob\n",
            "Alice Loves Bob\n"
          ]
        }
      ]
    },
    {
      "cell_type": "code",
      "source": [
        "# 1. Two Sum\n",
        "# Input:\n",
        "# nums = [1,2,7,11,9,5,7,7,15],\n",
        "# Output: [0,1]\n",
        "# Sort the Array\n",
        "\n",
        "\n",
        "nums = [3,2,4]\n",
        "i=0\n",
        "target = 6\n",
        "output=[]\n",
        "j=len(nums)-1\n",
        "target = 6\n",
        "while i <j:\n",
        "    if (nums[j] > target):\n",
        "         j-=1\n",
        "    elif (nums[i] > target):\n",
        "         i+=1\n",
        "    else:\n",
        "       if nums[i]+nums[j]>target:\n",
        "          j-=1\n",
        "       if nums[i]+nums[j]<target:\n",
        "          i+=1\n",
        "       if nums[i]+nums[j]==target:\n",
        "          output.append(i)\n",
        "          output.append(j)\n",
        "\n",
        "\n",
        "print(output)"
      ],
      "metadata": {
        "colab": {
          "base_uri": "https://localhost:8080/"
        },
        "id": "gpMzAjxK8Bm1",
        "outputId": "038c0140-cefb-4677-a6e7-e8a8f537a7b1"
      },
      "execution_count": null,
      "outputs": [
        {
          "output_type": "stream",
          "name": "stdout",
          "text": [
            "[]\n"
          ]
        }
      ]
    },
    {
      "cell_type": "code",
      "source": [
        "nums =  [3,2,4]\n",
        "target = 6\n",
        "Output= []\n",
        "\n",
        "for i in range(0,len(nums)):\n",
        "  s=target-nums[i]\n",
        "  if s in nums:\n",
        "    Output.append(i)\n",
        "\n",
        "\n",
        "\n",
        "print(Output)\n",
        "\n"
      ],
      "metadata": {
        "colab": {
          "base_uri": "https://localhost:8080/"
        },
        "id": "cpTrQWB8DM_h",
        "outputId": "4582f9e8-024e-4f2d-8c06-f4cfadc7e4ac"
      },
      "execution_count": null,
      "outputs": [
        {
          "output_type": "stream",
          "name": "stdout",
          "text": [
            "[0, 1, 2]\n"
          ]
        }
      ]
    },
    {
      "cell_type": "markdown",
      "source": [
        "# New section"
      ],
      "metadata": {
        "id": "ETEnsasHgpKI"
      }
    }
  ]
}